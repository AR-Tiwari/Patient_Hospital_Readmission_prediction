{
 "cells": [
  {
   "cell_type": "markdown",
   "id": "f61ac8d2",
   "metadata": {},
   "source": [
    "# Hackathon: \"Prediction on patient readmission to the hospital\""
   ]
  },
  {
   "cell_type": "markdown",
   "id": "4453d677",
   "metadata": {},
   "source": [
    "### Problem Statement:\n",
    "    \n",
    "Management of lifestyle diseases in hospitalized patients has a significant bearing on \n",
    "outcome, in terms of both morbidity and mortality. The main object for this problem is to \n",
    "predict whether a patient is likely to be readmitted to hospital based on the previous details of \n",
    "the patient."
   ]
  },
  {
   "cell_type": "markdown",
   "id": "fd4d066e",
   "metadata": {},
   "source": [
    "### Dataset Description:\n",
    "\n",
    "- Target attribute: \"readmitted\" (discrete variable: 2 classes).\n",
    "- The dataset contains 48 features and 66587 rows in train dataset and 16647 data in test dataset. The Column readmission is the target dataset."
   ]
  },
  {
   "cell_type": "markdown",
   "id": "0568af2e",
   "metadata": {},
   "source": [
    "### Importing necessary Libraries:"
   ]
  },
  {
   "cell_type": "code",
   "execution_count": 64,
   "id": "faf65fbb",
   "metadata": {},
   "outputs": [],
   "source": [
    "import pandas as pd\n",
    "import matplotlib.pyplot as plt\n",
    "import numpy as np\n",
    "import seaborn as sns"
   ]
  },
  {
   "cell_type": "code",
   "execution_count": 2,
   "id": "7b8414a0",
   "metadata": {},
   "outputs": [],
   "source": [
    "df=pd.read_csv(\"Train-1617360447408-1660719685476.csv\")      ## Loading the dataset"
   ]
  },
  {
   "cell_type": "code",
   "execution_count": 3,
   "id": "3c4d2117",
   "metadata": {},
   "outputs": [
    {
     "data": {
      "text/plain": [
       "(66587, 49)"
      ]
     },
     "execution_count": 3,
     "metadata": {},
     "output_type": "execute_result"
    }
   ],
   "source": [
    "df.shape               ## checking the shape of the dataset"
   ]
  },
  {
   "cell_type": "code",
   "execution_count": 4,
   "id": "42cdfd63",
   "metadata": {
    "scrolled": true
   },
   "outputs": [
    {
     "data": {
      "text/html": [
       "<div>\n",
       "<style scoped>\n",
       "    .dataframe tbody tr th:only-of-type {\n",
       "        vertical-align: middle;\n",
       "    }\n",
       "\n",
       "    .dataframe tbody tr th {\n",
       "        vertical-align: top;\n",
       "    }\n",
       "\n",
       "    .dataframe thead th {\n",
       "        text-align: right;\n",
       "    }\n",
       "</style>\n",
       "<table border=\"1\" class=\"dataframe\">\n",
       "  <thead>\n",
       "    <tr style=\"text-align: right;\">\n",
       "      <th></th>\n",
       "      <th>index</th>\n",
       "      <th>encounter_id</th>\n",
       "      <th>patient_id</th>\n",
       "      <th>race</th>\n",
       "      <th>gender</th>\n",
       "      <th>age</th>\n",
       "      <th>weight</th>\n",
       "      <th>time_in_hospital</th>\n",
       "      <th>medical_specialty</th>\n",
       "      <th>num_lab_procedures</th>\n",
       "      <th>...</th>\n",
       "      <th>X19</th>\n",
       "      <th>X20</th>\n",
       "      <th>X21</th>\n",
       "      <th>X22</th>\n",
       "      <th>X23</th>\n",
       "      <th>X24</th>\n",
       "      <th>X25</th>\n",
       "      <th>change</th>\n",
       "      <th>diabetesMed</th>\n",
       "      <th>readmitted</th>\n",
       "    </tr>\n",
       "  </thead>\n",
       "  <tbody>\n",
       "    <tr>\n",
       "      <th>0</th>\n",
       "      <td>69375</td>\n",
       "      <td>197029140</td>\n",
       "      <td>51521940</td>\n",
       "      <td>Hispanic</td>\n",
       "      <td>Male</td>\n",
       "      <td>[80-90)</td>\n",
       "      <td>?</td>\n",
       "      <td>4</td>\n",
       "      <td>Emergency/Trauma</td>\n",
       "      <td>39</td>\n",
       "      <td>...</td>\n",
       "      <td>No</td>\n",
       "      <td>No</td>\n",
       "      <td>No</td>\n",
       "      <td>No</td>\n",
       "      <td>No</td>\n",
       "      <td>No</td>\n",
       "      <td>No</td>\n",
       "      <td>No</td>\n",
       "      <td>Yes</td>\n",
       "      <td>1</td>\n",
       "    </tr>\n",
       "    <tr>\n",
       "      <th>1</th>\n",
       "      <td>57272</td>\n",
       "      <td>163571946</td>\n",
       "      <td>92631357</td>\n",
       "      <td>Caucasian</td>\n",
       "      <td>Male</td>\n",
       "      <td>[60-70)</td>\n",
       "      <td>?</td>\n",
       "      <td>3</td>\n",
       "      <td>Emergency/Trauma</td>\n",
       "      <td>34</td>\n",
       "      <td>...</td>\n",
       "      <td>No</td>\n",
       "      <td>No</td>\n",
       "      <td>No</td>\n",
       "      <td>No</td>\n",
       "      <td>No</td>\n",
       "      <td>No</td>\n",
       "      <td>No</td>\n",
       "      <td>No</td>\n",
       "      <td>No</td>\n",
       "      <td>0</td>\n",
       "    </tr>\n",
       "    <tr>\n",
       "      <th>2</th>\n",
       "      <td>82347</td>\n",
       "      <td>256497366</td>\n",
       "      <td>30023982</td>\n",
       "      <td>Caucasian</td>\n",
       "      <td>Female</td>\n",
       "      <td>[50-60)</td>\n",
       "      <td>?</td>\n",
       "      <td>6</td>\n",
       "      <td>Nephrology</td>\n",
       "      <td>50</td>\n",
       "      <td>...</td>\n",
       "      <td>No</td>\n",
       "      <td>Down</td>\n",
       "      <td>No</td>\n",
       "      <td>No</td>\n",
       "      <td>No</td>\n",
       "      <td>No</td>\n",
       "      <td>No</td>\n",
       "      <td>Ch</td>\n",
       "      <td>Yes</td>\n",
       "      <td>1</td>\n",
       "    </tr>\n",
       "    <tr>\n",
       "      <th>3</th>\n",
       "      <td>89608</td>\n",
       "      <td>289891212</td>\n",
       "      <td>93606021</td>\n",
       "      <td>AfricanAmerican</td>\n",
       "      <td>Female</td>\n",
       "      <td>[70-80)</td>\n",
       "      <td>?</td>\n",
       "      <td>5</td>\n",
       "      <td>?</td>\n",
       "      <td>63</td>\n",
       "      <td>...</td>\n",
       "      <td>No</td>\n",
       "      <td>Down</td>\n",
       "      <td>No</td>\n",
       "      <td>No</td>\n",
       "      <td>No</td>\n",
       "      <td>No</td>\n",
       "      <td>No</td>\n",
       "      <td>Ch</td>\n",
       "      <td>Yes</td>\n",
       "      <td>1</td>\n",
       "    </tr>\n",
       "    <tr>\n",
       "      <th>4</th>\n",
       "      <td>24091</td>\n",
       "      <td>81873900</td>\n",
       "      <td>23464296</td>\n",
       "      <td>Caucasian</td>\n",
       "      <td>Male</td>\n",
       "      <td>[70-80)</td>\n",
       "      <td>?</td>\n",
       "      <td>9</td>\n",
       "      <td>Psychiatry</td>\n",
       "      <td>17</td>\n",
       "      <td>...</td>\n",
       "      <td>No</td>\n",
       "      <td>No</td>\n",
       "      <td>No</td>\n",
       "      <td>No</td>\n",
       "      <td>No</td>\n",
       "      <td>No</td>\n",
       "      <td>No</td>\n",
       "      <td>No</td>\n",
       "      <td>No</td>\n",
       "      <td>1</td>\n",
       "    </tr>\n",
       "  </tbody>\n",
       "</table>\n",
       "<p>5 rows × 49 columns</p>\n",
       "</div>"
      ],
      "text/plain": [
       "   index  encounter_id  patient_id             race  gender      age weight  \\\n",
       "0  69375     197029140    51521940         Hispanic    Male  [80-90)      ?   \n",
       "1  57272     163571946    92631357        Caucasian    Male  [60-70)      ?   \n",
       "2  82347     256497366    30023982        Caucasian  Female  [50-60)      ?   \n",
       "3  89608     289891212    93606021  AfricanAmerican  Female  [70-80)      ?   \n",
       "4  24091      81873900    23464296        Caucasian    Male  [70-80)      ?   \n",
       "\n",
       "   time_in_hospital medical_specialty  num_lab_procedures  ...  X19   X20  \\\n",
       "0                 4  Emergency/Trauma                  39  ...   No    No   \n",
       "1                 3  Emergency/Trauma                  34  ...   No    No   \n",
       "2                 6        Nephrology                  50  ...   No  Down   \n",
       "3                 5                 ?                  63  ...   No  Down   \n",
       "4                 9        Psychiatry                  17  ...   No    No   \n",
       "\n",
       "   X21  X22  X23 X24 X25 change diabetesMed  readmitted  \n",
       "0   No   No   No  No  No     No         Yes           1  \n",
       "1   No   No   No  No  No     No          No           0  \n",
       "2   No   No   No  No  No     Ch         Yes           1  \n",
       "3   No   No   No  No  No     Ch         Yes           1  \n",
       "4   No   No   No  No  No     No          No           1  \n",
       "\n",
       "[5 rows x 49 columns]"
      ]
     },
     "execution_count": 4,
     "metadata": {},
     "output_type": "execute_result"
    }
   ],
   "source": [
    "df.head()               ## checking first 5 columns of the dataset"
   ]
  },
  {
   "cell_type": "markdown",
   "id": "18ddc6f5",
   "metadata": {},
   "source": [
    "### Data cleaning:"
   ]
  },
  {
   "cell_type": "code",
   "execution_count": 6,
   "id": "89af5a69",
   "metadata": {},
   "outputs": [
    {
     "data": {
      "text/plain": [
       "17676"
      ]
     },
     "execution_count": 6,
     "metadata": {},
     "output_type": "execute_result"
    }
   ],
   "source": [
    "### Checking for duplicate values in the dataset.\n",
    "\n",
    "df.duplicated().sum()"
   ]
  },
  {
   "cell_type": "code",
   "execution_count": 7,
   "id": "9b1e51c5",
   "metadata": {},
   "outputs": [],
   "source": [
    "## dropping the duplicates values.\n",
    "\n",
    "df=df.drop_duplicates()"
   ]
  },
  {
   "cell_type": "code",
   "execution_count": 9,
   "id": "83660d55",
   "metadata": {},
   "outputs": [
    {
     "data": {
      "text/plain": [
       "0"
      ]
     },
     "execution_count": 9,
     "metadata": {},
     "output_type": "execute_result"
    }
   ],
   "source": [
    "df.duplicated().sum()"
   ]
  },
  {
   "cell_type": "code",
   "execution_count": 10,
   "id": "5acda97d",
   "metadata": {},
   "outputs": [
    {
     "data": {
      "text/plain": [
       "(48911, 49)"
      ]
     },
     "execution_count": 10,
     "metadata": {},
     "output_type": "execute_result"
    }
   ],
   "source": [
    "df.shape"
   ]
  },
  {
   "cell_type": "code",
   "execution_count": 11,
   "id": "240a80b6",
   "metadata": {
    "scrolled": true
   },
   "outputs": [
    {
     "data": {
      "text/plain": [
       "index                 0\n",
       "encounter_id          0\n",
       "patient_id            0\n",
       "race                  0\n",
       "gender                0\n",
       "age                   0\n",
       "weight                0\n",
       "time_in_hospital      0\n",
       "medical_specialty     0\n",
       "num_lab_procedures    0\n",
       "num_procedures        0\n",
       "num_medications       0\n",
       "number_outpatient     0\n",
       "number_emergency      0\n",
       "number_inpatient      0\n",
       "diag_1                0\n",
       "diag_2                0\n",
       "diag_3                0\n",
       "diag_4                0\n",
       "diag_5                0\n",
       "number_diagnoses      0\n",
       "X1                    0\n",
       "X2                    0\n",
       "X3                    0\n",
       "X4                    0\n",
       "X5                    0\n",
       "X6                    0\n",
       "X7                    0\n",
       "X8                    0\n",
       "X9                    0\n",
       "X10                   0\n",
       "X11                   0\n",
       "X12                   0\n",
       "X13                   0\n",
       "X14                   0\n",
       "X15                   0\n",
       "X16                   0\n",
       "X17                   0\n",
       "X18                   0\n",
       "X19                   0\n",
       "X20                   0\n",
       "X21                   0\n",
       "X22                   0\n",
       "X23                   0\n",
       "X24                   0\n",
       "X25                   0\n",
       "change                0\n",
       "diabetesMed           0\n",
       "readmitted            0\n",
       "dtype: int64"
      ]
     },
     "execution_count": 11,
     "metadata": {},
     "output_type": "execute_result"
    }
   ],
   "source": [
    "## Checking for null values in the dataset.\n",
    "\n",
    "df.isnull().sum()"
   ]
  },
  {
   "cell_type": "code",
   "execution_count": 12,
   "id": "074fc99d",
   "metadata": {},
   "outputs": [
    {
     "data": {
      "text/html": [
       "<div>\n",
       "<style scoped>\n",
       "    .dataframe tbody tr th:only-of-type {\n",
       "        vertical-align: middle;\n",
       "    }\n",
       "\n",
       "    .dataframe tbody tr th {\n",
       "        vertical-align: top;\n",
       "    }\n",
       "\n",
       "    .dataframe thead th {\n",
       "        text-align: right;\n",
       "    }\n",
       "</style>\n",
       "<table border=\"1\" class=\"dataframe\">\n",
       "  <thead>\n",
       "    <tr style=\"text-align: right;\">\n",
       "      <th></th>\n",
       "      <th>index</th>\n",
       "      <th>encounter_id</th>\n",
       "      <th>patient_id</th>\n",
       "      <th>time_in_hospital</th>\n",
       "      <th>num_lab_procedures</th>\n",
       "      <th>num_procedures</th>\n",
       "      <th>num_medications</th>\n",
       "      <th>number_outpatient</th>\n",
       "      <th>number_emergency</th>\n",
       "      <th>number_inpatient</th>\n",
       "      <th>diag_5</th>\n",
       "      <th>number_diagnoses</th>\n",
       "      <th>readmitted</th>\n",
       "    </tr>\n",
       "  </thead>\n",
       "  <tbody>\n",
       "    <tr>\n",
       "      <th>count</th>\n",
       "      <td>48911.000000</td>\n",
       "      <td>4.891100e+04</td>\n",
       "      <td>4.891100e+04</td>\n",
       "      <td>48911.000000</td>\n",
       "      <td>48911.000000</td>\n",
       "      <td>48911.000000</td>\n",
       "      <td>48911.000000</td>\n",
       "      <td>48911.000000</td>\n",
       "      <td>48911.000000</td>\n",
       "      <td>48911.000000</td>\n",
       "      <td>48911.000000</td>\n",
       "      <td>48911.000000</td>\n",
       "      <td>48911.000000</td>\n",
       "    </tr>\n",
       "    <tr>\n",
       "      <th>mean</th>\n",
       "      <td>50897.807078</td>\n",
       "      <td>1.652508e+08</td>\n",
       "      <td>5.427235e+07</td>\n",
       "      <td>4.402486</td>\n",
       "      <td>43.110302</td>\n",
       "      <td>1.334465</td>\n",
       "      <td>16.032488</td>\n",
       "      <td>0.368895</td>\n",
       "      <td>0.205128</td>\n",
       "      <td>0.637096</td>\n",
       "      <td>49.831580</td>\n",
       "      <td>7.423770</td>\n",
       "      <td>0.462248</td>\n",
       "    </tr>\n",
       "    <tr>\n",
       "      <th>std</th>\n",
       "      <td>29444.352632</td>\n",
       "      <td>1.028397e+08</td>\n",
       "      <td>3.870114e+07</td>\n",
       "      <td>2.986656</td>\n",
       "      <td>19.626326</td>\n",
       "      <td>1.707151</td>\n",
       "      <td>8.139802</td>\n",
       "      <td>1.231869</td>\n",
       "      <td>0.934525</td>\n",
       "      <td>1.257994</td>\n",
       "      <td>28.857683</td>\n",
       "      <td>1.933264</td>\n",
       "      <td>0.498578</td>\n",
       "    </tr>\n",
       "    <tr>\n",
       "      <th>min</th>\n",
       "      <td>0.000000</td>\n",
       "      <td>1.573800e+04</td>\n",
       "      <td>1.350000e+02</td>\n",
       "      <td>1.000000</td>\n",
       "      <td>1.000000</td>\n",
       "      <td>0.000000</td>\n",
       "      <td>1.000000</td>\n",
       "      <td>0.000000</td>\n",
       "      <td>0.000000</td>\n",
       "      <td>0.000000</td>\n",
       "      <td>0.000283</td>\n",
       "      <td>1.000000</td>\n",
       "      <td>0.000000</td>\n",
       "    </tr>\n",
       "    <tr>\n",
       "      <th>25%</th>\n",
       "      <td>25234.000000</td>\n",
       "      <td>8.454446e+07</td>\n",
       "      <td>2.340417e+07</td>\n",
       "      <td>2.000000</td>\n",
       "      <td>31.000000</td>\n",
       "      <td>0.000000</td>\n",
       "      <td>10.000000</td>\n",
       "      <td>0.000000</td>\n",
       "      <td>0.000000</td>\n",
       "      <td>0.000000</td>\n",
       "      <td>24.908012</td>\n",
       "      <td>6.000000</td>\n",
       "      <td>0.000000</td>\n",
       "    </tr>\n",
       "    <tr>\n",
       "      <th>50%</th>\n",
       "      <td>51029.000000</td>\n",
       "      <td>1.526470e+08</td>\n",
       "      <td>4.535182e+07</td>\n",
       "      <td>4.000000</td>\n",
       "      <td>44.000000</td>\n",
       "      <td>1.000000</td>\n",
       "      <td>15.000000</td>\n",
       "      <td>0.000000</td>\n",
       "      <td>0.000000</td>\n",
       "      <td>0.000000</td>\n",
       "      <td>49.728831</td>\n",
       "      <td>8.000000</td>\n",
       "      <td>0.000000</td>\n",
       "    </tr>\n",
       "    <tr>\n",
       "      <th>75%</th>\n",
       "      <td>76368.500000</td>\n",
       "      <td>2.304537e+08</td>\n",
       "      <td>8.735458e+07</td>\n",
       "      <td>6.000000</td>\n",
       "      <td>57.000000</td>\n",
       "      <td>2.000000</td>\n",
       "      <td>20.000000</td>\n",
       "      <td>0.000000</td>\n",
       "      <td>0.000000</td>\n",
       "      <td>1.000000</td>\n",
       "      <td>74.819023</td>\n",
       "      <td>9.000000</td>\n",
       "      <td>1.000000</td>\n",
       "    </tr>\n",
       "    <tr>\n",
       "      <th>max</th>\n",
       "      <td>101765.000000</td>\n",
       "      <td>4.438672e+08</td>\n",
       "      <td>1.893494e+08</td>\n",
       "      <td>14.000000</td>\n",
       "      <td>129.000000</td>\n",
       "      <td>6.000000</td>\n",
       "      <td>81.000000</td>\n",
       "      <td>39.000000</td>\n",
       "      <td>63.000000</td>\n",
       "      <td>19.000000</td>\n",
       "      <td>99.995810</td>\n",
       "      <td>16.000000</td>\n",
       "      <td>1.000000</td>\n",
       "    </tr>\n",
       "  </tbody>\n",
       "</table>\n",
       "</div>"
      ],
      "text/plain": [
       "               index  encounter_id    patient_id  time_in_hospital  \\\n",
       "count   48911.000000  4.891100e+04  4.891100e+04      48911.000000   \n",
       "mean    50897.807078  1.652508e+08  5.427235e+07          4.402486   \n",
       "std     29444.352632  1.028397e+08  3.870114e+07          2.986656   \n",
       "min         0.000000  1.573800e+04  1.350000e+02          1.000000   \n",
       "25%     25234.000000  8.454446e+07  2.340417e+07          2.000000   \n",
       "50%     51029.000000  1.526470e+08  4.535182e+07          4.000000   \n",
       "75%     76368.500000  2.304537e+08  8.735458e+07          6.000000   \n",
       "max    101765.000000  4.438672e+08  1.893494e+08         14.000000   \n",
       "\n",
       "       num_lab_procedures  num_procedures  num_medications  number_outpatient  \\\n",
       "count        48911.000000    48911.000000     48911.000000       48911.000000   \n",
       "mean            43.110302        1.334465        16.032488           0.368895   \n",
       "std             19.626326        1.707151         8.139802           1.231869   \n",
       "min              1.000000        0.000000         1.000000           0.000000   \n",
       "25%             31.000000        0.000000        10.000000           0.000000   \n",
       "50%             44.000000        1.000000        15.000000           0.000000   \n",
       "75%             57.000000        2.000000        20.000000           0.000000   \n",
       "max            129.000000        6.000000        81.000000          39.000000   \n",
       "\n",
       "       number_emergency  number_inpatient        diag_5  number_diagnoses  \\\n",
       "count      48911.000000      48911.000000  48911.000000      48911.000000   \n",
       "mean           0.205128          0.637096     49.831580          7.423770   \n",
       "std            0.934525          1.257994     28.857683          1.933264   \n",
       "min            0.000000          0.000000      0.000283          1.000000   \n",
       "25%            0.000000          0.000000     24.908012          6.000000   \n",
       "50%            0.000000          0.000000     49.728831          8.000000   \n",
       "75%            0.000000          1.000000     74.819023          9.000000   \n",
       "max           63.000000         19.000000     99.995810         16.000000   \n",
       "\n",
       "         readmitted  \n",
       "count  48911.000000  \n",
       "mean       0.462248  \n",
       "std        0.498578  \n",
       "min        0.000000  \n",
       "25%        0.000000  \n",
       "50%        0.000000  \n",
       "75%        1.000000  \n",
       "max        1.000000  "
      ]
     },
     "execution_count": 12,
     "metadata": {},
     "output_type": "execute_result"
    }
   ],
   "source": [
    "df.describe()"
   ]
  },
  {
   "cell_type": "code",
   "execution_count": 14,
   "id": "0607f345",
   "metadata": {},
   "outputs": [],
   "source": [
    "## dropping columns which are very important for our furthur process.\n",
    "\n",
    "df1=df.drop(['index','encounter_id','patient_id','weight'],axis=1)"
   ]
  },
  {
   "cell_type": "code",
   "execution_count": 15,
   "id": "e1898310",
   "metadata": {
    "scrolled": true
   },
   "outputs": [
    {
     "data": {
      "text/html": [
       "<div>\n",
       "<style scoped>\n",
       "    .dataframe tbody tr th:only-of-type {\n",
       "        vertical-align: middle;\n",
       "    }\n",
       "\n",
       "    .dataframe tbody tr th {\n",
       "        vertical-align: top;\n",
       "    }\n",
       "\n",
       "    .dataframe thead th {\n",
       "        text-align: right;\n",
       "    }\n",
       "</style>\n",
       "<table border=\"1\" class=\"dataframe\">\n",
       "  <thead>\n",
       "    <tr style=\"text-align: right;\">\n",
       "      <th></th>\n",
       "      <th>race</th>\n",
       "      <th>gender</th>\n",
       "      <th>age</th>\n",
       "      <th>time_in_hospital</th>\n",
       "      <th>medical_specialty</th>\n",
       "      <th>num_lab_procedures</th>\n",
       "      <th>num_procedures</th>\n",
       "      <th>num_medications</th>\n",
       "      <th>number_outpatient</th>\n",
       "      <th>number_emergency</th>\n",
       "      <th>...</th>\n",
       "      <th>X19</th>\n",
       "      <th>X20</th>\n",
       "      <th>X21</th>\n",
       "      <th>X22</th>\n",
       "      <th>X23</th>\n",
       "      <th>X24</th>\n",
       "      <th>X25</th>\n",
       "      <th>change</th>\n",
       "      <th>diabetesMed</th>\n",
       "      <th>readmitted</th>\n",
       "    </tr>\n",
       "  </thead>\n",
       "  <tbody>\n",
       "    <tr>\n",
       "      <th>0</th>\n",
       "      <td>Hispanic</td>\n",
       "      <td>Male</td>\n",
       "      <td>[80-90)</td>\n",
       "      <td>4</td>\n",
       "      <td>Emergency/Trauma</td>\n",
       "      <td>39</td>\n",
       "      <td>1</td>\n",
       "      <td>9</td>\n",
       "      <td>1</td>\n",
       "      <td>1</td>\n",
       "      <td>...</td>\n",
       "      <td>No</td>\n",
       "      <td>No</td>\n",
       "      <td>No</td>\n",
       "      <td>No</td>\n",
       "      <td>No</td>\n",
       "      <td>No</td>\n",
       "      <td>No</td>\n",
       "      <td>No</td>\n",
       "      <td>Yes</td>\n",
       "      <td>1</td>\n",
       "    </tr>\n",
       "    <tr>\n",
       "      <th>1</th>\n",
       "      <td>Caucasian</td>\n",
       "      <td>Male</td>\n",
       "      <td>[60-70)</td>\n",
       "      <td>3</td>\n",
       "      <td>Emergency/Trauma</td>\n",
       "      <td>34</td>\n",
       "      <td>1</td>\n",
       "      <td>12</td>\n",
       "      <td>0</td>\n",
       "      <td>0</td>\n",
       "      <td>...</td>\n",
       "      <td>No</td>\n",
       "      <td>No</td>\n",
       "      <td>No</td>\n",
       "      <td>No</td>\n",
       "      <td>No</td>\n",
       "      <td>No</td>\n",
       "      <td>No</td>\n",
       "      <td>No</td>\n",
       "      <td>No</td>\n",
       "      <td>0</td>\n",
       "    </tr>\n",
       "    <tr>\n",
       "      <th>2</th>\n",
       "      <td>Caucasian</td>\n",
       "      <td>Female</td>\n",
       "      <td>[50-60)</td>\n",
       "      <td>6</td>\n",
       "      <td>Nephrology</td>\n",
       "      <td>50</td>\n",
       "      <td>2</td>\n",
       "      <td>24</td>\n",
       "      <td>0</td>\n",
       "      <td>0</td>\n",
       "      <td>...</td>\n",
       "      <td>No</td>\n",
       "      <td>Down</td>\n",
       "      <td>No</td>\n",
       "      <td>No</td>\n",
       "      <td>No</td>\n",
       "      <td>No</td>\n",
       "      <td>No</td>\n",
       "      <td>Ch</td>\n",
       "      <td>Yes</td>\n",
       "      <td>1</td>\n",
       "    </tr>\n",
       "    <tr>\n",
       "      <th>3</th>\n",
       "      <td>AfricanAmerican</td>\n",
       "      <td>Female</td>\n",
       "      <td>[70-80)</td>\n",
       "      <td>5</td>\n",
       "      <td>?</td>\n",
       "      <td>63</td>\n",
       "      <td>0</td>\n",
       "      <td>14</td>\n",
       "      <td>0</td>\n",
       "      <td>0</td>\n",
       "      <td>...</td>\n",
       "      <td>No</td>\n",
       "      <td>Down</td>\n",
       "      <td>No</td>\n",
       "      <td>No</td>\n",
       "      <td>No</td>\n",
       "      <td>No</td>\n",
       "      <td>No</td>\n",
       "      <td>Ch</td>\n",
       "      <td>Yes</td>\n",
       "      <td>1</td>\n",
       "    </tr>\n",
       "    <tr>\n",
       "      <th>4</th>\n",
       "      <td>Caucasian</td>\n",
       "      <td>Male</td>\n",
       "      <td>[70-80)</td>\n",
       "      <td>9</td>\n",
       "      <td>Psychiatry</td>\n",
       "      <td>17</td>\n",
       "      <td>1</td>\n",
       "      <td>11</td>\n",
       "      <td>0</td>\n",
       "      <td>0</td>\n",
       "      <td>...</td>\n",
       "      <td>No</td>\n",
       "      <td>No</td>\n",
       "      <td>No</td>\n",
       "      <td>No</td>\n",
       "      <td>No</td>\n",
       "      <td>No</td>\n",
       "      <td>No</td>\n",
       "      <td>No</td>\n",
       "      <td>No</td>\n",
       "      <td>1</td>\n",
       "    </tr>\n",
       "  </tbody>\n",
       "</table>\n",
       "<p>5 rows × 45 columns</p>\n",
       "</div>"
      ],
      "text/plain": [
       "              race  gender      age  time_in_hospital medical_specialty  \\\n",
       "0         Hispanic    Male  [80-90)                 4  Emergency/Trauma   \n",
       "1        Caucasian    Male  [60-70)                 3  Emergency/Trauma   \n",
       "2        Caucasian  Female  [50-60)                 6        Nephrology   \n",
       "3  AfricanAmerican  Female  [70-80)                 5                 ?   \n",
       "4        Caucasian    Male  [70-80)                 9        Psychiatry   \n",
       "\n",
       "   num_lab_procedures  num_procedures  num_medications  number_outpatient  \\\n",
       "0                  39               1                9                  1   \n",
       "1                  34               1               12                  0   \n",
       "2                  50               2               24                  0   \n",
       "3                  63               0               14                  0   \n",
       "4                  17               1               11                  0   \n",
       "\n",
       "   number_emergency  ...  X19   X20 X21 X22 X23  X24  X25 change diabetesMed  \\\n",
       "0                 1  ...   No    No  No  No  No   No   No     No         Yes   \n",
       "1                 0  ...   No    No  No  No  No   No   No     No          No   \n",
       "2                 0  ...   No  Down  No  No  No   No   No     Ch         Yes   \n",
       "3                 0  ...   No  Down  No  No  No   No   No     Ch         Yes   \n",
       "4                 0  ...   No    No  No  No  No   No   No     No          No   \n",
       "\n",
       "  readmitted  \n",
       "0          1  \n",
       "1          0  \n",
       "2          1  \n",
       "3          1  \n",
       "4          1  \n",
       "\n",
       "[5 rows x 45 columns]"
      ]
     },
     "execution_count": 15,
     "metadata": {},
     "output_type": "execute_result"
    }
   ],
   "source": [
    "df1.head()"
   ]
  },
  {
   "cell_type": "code",
   "execution_count": 16,
   "id": "0487b092",
   "metadata": {},
   "outputs": [
    {
     "data": {
      "text/plain": [
       "(48911, 45)"
      ]
     },
     "execution_count": 16,
     "metadata": {},
     "output_type": "execute_result"
    }
   ],
   "source": [
    "df1.shape"
   ]
  },
  {
   "cell_type": "markdown",
   "id": "84ea108e",
   "metadata": {},
   "source": [
    "### Data visualization"
   ]
  },
  {
   "cell_type": "code",
   "execution_count": 65,
   "id": "b2523597",
   "metadata": {},
   "outputs": [
    {
     "name": "stderr",
     "output_type": "stream",
     "text": [
      "C:\\Users\\Lenovo\\anaconda3\\lib\\site-packages\\seaborn\\_decorators.py:36: FutureWarning: Pass the following variable as a keyword arg: x. From version 0.12, the only valid positional argument will be `data`, and passing other arguments without an explicit keyword will result in an error or misinterpretation.\n",
      "  warnings.warn(\n"
     ]
    },
    {
     "data": {
      "text/plain": [
       "Text(0.5, 1.0, 'Distrinution of Readmission')"
      ]
     },
     "execution_count": 65,
     "metadata": {},
     "output_type": "execute_result"
    },
    {
     "data": {
      "image/png": "[encoded data removed]",
      "text/plain": [
       "<Figure size 432x288 with 1 Axes>"
      ]
     },
     "metadata": {
      "needs_background": "light"
     },
     "output_type": "display_data"
    }
   ],
   "source": [
    "# Distribution of Readmission \n",
    "sns.countplot(df['readmitted']).set_title('Distrinution of Readmission')"
   ]
  },
  {
   "cell_type": "code",
   "execution_count": 66,
   "id": "3b81f05f",
   "metadata": {},
   "outputs": [
    {
     "data": {
      "text/plain": [
       "Text(0.5, 1.0, 'Time in Hospital VS. Readmission')"
      ]
     },
     "execution_count": 66,
     "metadata": {},
     "output_type": "execute_result"
    },
    {
     "data": {
      "image/png": "[encoded data removed]",
      "text/plain": [
       "<Figure size 936x504 with 1 Axes>"
      ]
     },
     "metadata": {
      "needs_background": "light"
     },
     "output_type": "display_data"
    }
   ],
   "source": [
    "## Time in Hospital and Readmission\n",
    "\n",
    "fig = plt.figure(figsize=(13,7),)\n",
    "ax=sns.kdeplot(df.loc[(df['readmitted'] == 0),'time_in_hospital'] , color='b',shade=True,label='Not Readmitted')\n",
    "ax=sns.kdeplot(df.loc[(df['readmitted'] == 1),'time_in_hospital'] , color='r',shade=True, label='Readmitted')\n",
    "ax.set(xlabel='Time in Hospital', ylabel='Frequency')\n",
    "plt.title('Time in Hospital VS. Readmission')"
   ]
  },
  {
   "cell_type": "code",
   "execution_count": 67,
   "id": "25b87aa9",
   "metadata": {},
   "outputs": [
    {
     "data": {
      "text/plain": [
       "Text(0.5, 1.0, 'Age of Patient VS. Readmission')"
      ]
     },
     "execution_count": 67,
     "metadata": {},
     "output_type": "execute_result"
    },
    {
     "data": {
      "image/png": "[encoded data removed]",
      "text/plain": [
       "<Figure size 1080x720 with 1 Axes>"
      ]
     },
     "metadata": {
      "needs_background": "light"
     },
     "output_type": "display_data"
    }
   ],
   "source": [
    "## Age and Readmission\n",
    "\n",
    "fig = plt.figure(figsize=(15,10))\n",
    "sns.countplot(y= df['age'], hue = df['readmitted']).set_title('Age of Patient VS. Readmission')"
   ]
  },
  {
   "cell_type": "code",
   "execution_count": 17,
   "id": "029fe180",
   "metadata": {},
   "outputs": [
    {
     "data": {
      "text/plain": [
       "array([[<AxesSubplot:title={'center':'time_in_hospital'}>,\n",
       "        <AxesSubplot:title={'center':'num_lab_procedures'}>,\n",
       "        <AxesSubplot:title={'center':'num_procedures'}>],\n",
       "       [<AxesSubplot:title={'center':'num_medications'}>,\n",
       "        <AxesSubplot:title={'center':'number_outpatient'}>,\n",
       "        <AxesSubplot:title={'center':'number_emergency'}>],\n",
       "       [<AxesSubplot:title={'center':'number_inpatient'}>,\n",
       "        <AxesSubplot:title={'center':'diag_5'}>,\n",
       "        <AxesSubplot:title={'center':'number_diagnoses'}>],\n",
       "       [<AxesSubplot:title={'center':'readmitted'}>, <AxesSubplot:>,\n",
       "        <AxesSubplot:>]], dtype=object)"
      ]
     },
     "execution_count": 17,
     "metadata": {},
     "output_type": "execute_result"
    },
    {
     "data": {
      "text/plain": [
       "<Figure size 720x720 with 0 Axes>"
      ]
     },
     "metadata": {},
     "output_type": "display_data"
    },
    {
     "data": {
      "image/png": "[encoded data removed]",
      "text/plain": [
       "<Figure size 432x288 with 12 Axes>"
      ]
     },
     "metadata": {
      "needs_background": "light"
     },
     "output_type": "display_data"
    }
   ],
   "source": [
    "df1.hist()"
   ]
  },
  {
   "cell_type": "code",
   "execution_count": 68,
   "id": "a4dca55a",
   "metadata": {},
   "outputs": [
    {
     "data": {
      "text/plain": [
       "<AxesSubplot:xlabel='count', ylabel='race'>"
      ]
     },
     "execution_count": 68,
     "metadata": {},
     "output_type": "execute_result"
    },
    {
     "data": {
      "image/png": "[encoded data removed]",
      "text/plain": [
       "<Figure size 576x576 with 1 Axes>"
      ]
     },
     "metadata": {
      "needs_background": "light"
     },
     "output_type": "display_data"
    }
   ],
   "source": [
    "## Ethnicity of patient and Readmission\n",
    "\n",
    "fig = plt.figure(figsize=(8,8))\n",
    "sns.countplot(y = df['race'], hue = df['readmitted'])"
   ]
  },
  {
   "cell_type": "markdown",
   "id": "85118552",
   "metadata": {},
   "source": [
    "### Gender and Readmission\n",
    "- Male = 1\n",
    "- Female = 0"
   ]
  },
  {
   "cell_type": "code",
   "execution_count": 69,
   "id": "17e2d287",
   "metadata": {},
   "outputs": [
    {
     "name": "stderr",
     "output_type": "stream",
     "text": [
      "C:\\Users\\Lenovo\\anaconda3\\lib\\site-packages\\seaborn\\_decorators.py:36: FutureWarning: Pass the following variable as a keyword arg: x. From version 0.12, the only valid positional argument will be `data`, and passing other arguments without an explicit keyword will result in an error or misinterpretation.\n",
      "  warnings.warn(\n"
     ]
    },
    {
     "data": {
      "text/plain": [
       "Text(0.5, 1.0, 'Gender of Patient VS. Readmission')"
      ]
     },
     "execution_count": 69,
     "metadata": {},
     "output_type": "execute_result"
    },
    {
     "data": {
      "image/png": "[encoded data removed]",
      "text/plain": [
       "<Figure size 576x576 with 1 Axes>"
      ]
     },
     "metadata": {
      "needs_background": "light"
     },
     "output_type": "display_data"
    }
   ],
   "source": [
    "fig = plt.figure(figsize=(8,8))\n",
    "sns.countplot(df['gender'], hue = df['readmitted']).set_title(\"Gender of Patient VS. Readmission\")"
   ]
  },
  {
   "cell_type": "code",
   "execution_count": 1124,
   "id": "04634272",
   "metadata": {
    "scrolled": true
   },
   "outputs": [
    {
     "data": {
      "text/plain": [
       "Index(['race', 'gender', 'age', 'time_in_hospital', 'medical_specialty',\n",
       "       'num_lab_procedures', 'num_procedures', 'num_medications',\n",
       "       'number_outpatient', 'number_emergency', 'number_inpatient', 'diag_1',\n",
       "       'diag_2', 'diag_3', 'diag_4', 'diag_5', 'number_diagnoses', 'X1', 'X2',\n",
       "       'X3', 'X4', 'X5', 'X6', 'X7', 'X8', 'X9', 'X10', 'X11', 'X12', 'X13',\n",
       "       'X14', 'X15', 'X16', 'X17', 'X18', 'X19', 'X20', 'X21', 'X22', 'X23',\n",
       "       'X24', 'X25', 'change', 'diabetesMed', 'readmitted'],\n",
       "      dtype='object')"
      ]
     },
     "execution_count": 1124,
     "metadata": {},
     "output_type": "execute_result"
    }
   ],
   "source": [
    "df1.columns"
   ]
  },
  {
   "cell_type": "code",
   "execution_count": 1125,
   "id": "7c2002fa",
   "metadata": {
    "scrolled": true
   },
   "outputs": [
    {
     "data": {
      "text/plain": [
       "17676"
      ]
     },
     "execution_count": 1125,
     "metadata": {},
     "output_type": "execute_result"
    }
   ],
   "source": [
    "df1.duplicated().sum()  ## checking duplicate values"
   ]
  },
  {
   "cell_type": "code",
   "execution_count": 1126,
   "id": "9dbf46c9",
   "metadata": {},
   "outputs": [],
   "source": [
    "df1=df1.drop_duplicates()  ## dropping duplicate values"
   ]
  },
  {
   "cell_type": "code",
   "execution_count": 1127,
   "id": "ed71efb5",
   "metadata": {
    "scrolled": true
   },
   "outputs": [
    {
     "data": {
      "text/plain": [
       "(48911, 45)"
      ]
     },
     "execution_count": 1127,
     "metadata": {},
     "output_type": "execute_result"
    }
   ],
   "source": [
    "df1.shape"
   ]
  },
  {
   "cell_type": "code",
   "execution_count": 18,
   "id": "c1580d5f",
   "metadata": {},
   "outputs": [
    {
     "data": {
      "text/plain": [
       "Index(['race', 'gender', 'age', 'time_in_hospital', 'medical_specialty',\n",
       "       'num_lab_procedures', 'num_procedures', 'num_medications',\n",
       "       'number_outpatient', 'number_emergency', 'number_inpatient', 'diag_1',\n",
       "       'diag_2', 'diag_3', 'diag_4', 'diag_5', 'number_diagnoses', 'X1', 'X2',\n",
       "       'X3', 'X4', 'X5', 'X6', 'X7', 'X8', 'X9', 'X10', 'X11', 'X12', 'X13',\n",
       "       'X14', 'X15', 'X16', 'X17', 'X18', 'X19', 'X20', 'X21', 'X22', 'X23',\n",
       "       'X24', 'X25', 'change', 'diabetesMed', 'readmitted'],\n",
       "      dtype='object')"
      ]
     },
     "execution_count": 18,
     "metadata": {},
     "output_type": "execute_result"
    }
   ],
   "source": [
    "df1.columns"
   ]
  },
  {
   "cell_type": "code",
   "execution_count": 19,
   "id": "53b5e6bf",
   "metadata": {},
   "outputs": [
    {
     "name": "stdout",
     "output_type": "stream",
     "text": [
      "Caucasian          36637\n",
      "AfricanAmerican     9136\n",
      "?                   1114\n",
      "Hispanic             970\n",
      "Other                754\n",
      "Asian                300\n",
      "Name: race, dtype: int64\n",
      "Female             26378\n",
      "Male               22531\n",
      "Unknown/Invalid        2\n",
      "Name: gender, dtype: int64\n",
      "[70-80)     12478\n",
      "[60-70)     10964\n",
      "[50-60)      8421\n",
      "[80-90)      8103\n",
      "[40-50)      4619\n",
      "[30-40)      1766\n",
      "[90-100)     1353\n",
      "[20-30)       817\n",
      "[10-20)       313\n",
      "[0-10)         77\n",
      "Name: age, dtype: int64\n",
      "3     8584\n",
      "2     8262\n",
      "1     6764\n",
      "4     6689\n",
      "5     4823\n",
      "6     3656\n",
      "7     2780\n",
      "8     2096\n",
      "9     1390\n",
      "10    1143\n",
      "11     920\n",
      "12     738\n",
      "13     585\n",
      "14     481\n",
      "Name: time_in_hospital, dtype: int64\n",
      "?                                 23983\n",
      "InternalMedicine                   6977\n",
      "Emergency/Trauma                   3642\n",
      "Family/GeneralPractice             3636\n",
      "Cardiology                         2551\n",
      "                                  ...  \n",
      "Speech                                1\n",
      "Proctology                            1\n",
      "Psychiatry-Addictive                  1\n",
      "Pediatrics-Hematology-Oncology        1\n",
      "DCPTEAM                               1\n",
      "Name: medical_specialty, Length: 65, dtype: int64\n",
      "1      1477\n",
      "43     1352\n",
      "44     1184\n",
      "45     1177\n",
      "38     1070\n",
      "       ... \n",
      "104       1\n",
      "111       1\n",
      "129       1\n",
      "113       1\n",
      "118       1\n",
      "Name: num_lab_procedures, Length: 113, dtype: int64\n",
      "0    22515\n",
      "1     9998\n",
      "2     6076\n",
      "3     4447\n",
      "6     2403\n",
      "4     1999\n",
      "5     1473\n",
      "Name: num_procedures, dtype: int64\n",
      "13    2918\n",
      "12    2873\n",
      "11    2776\n",
      "15    2743\n",
      "14    2734\n",
      "      ... \n",
      "66       3\n",
      "69       2\n",
      "68       2\n",
      "70       1\n",
      "81       1\n",
      "Name: num_medications, Length: 71, dtype: int64\n",
      "0     40785\n",
      "1      4150\n",
      "2      1750\n",
      "3       980\n",
      "4       551\n",
      "5       254\n",
      "6       151\n",
      "7        77\n",
      "8        47\n",
      "9        44\n",
      "10       28\n",
      "11       20\n",
      "12       15\n",
      "13       12\n",
      "14       10\n",
      "15        9\n",
      "16        7\n",
      "17        2\n",
      "22        2\n",
      "27        2\n",
      "18        2\n",
      "23        2\n",
      "26        1\n",
      "25        1\n",
      "24        1\n",
      "39        1\n",
      "21        1\n",
      "20        1\n",
      "38        1\n",
      "33        1\n",
      "34        1\n",
      "36        1\n",
      "29        1\n",
      "Name: number_outpatient, dtype: int64\n",
      "0     43333\n",
      "1      3786\n",
      "2       951\n",
      "3       342\n",
      "4       190\n",
      "5       100\n",
      "6        56\n",
      "7        35\n",
      "8        29\n",
      "9        21\n",
      "10       18\n",
      "11       11\n",
      "13        7\n",
      "12        6\n",
      "22        5\n",
      "16        4\n",
      "20        4\n",
      "18        3\n",
      "19        2\n",
      "25        2\n",
      "46        1\n",
      "15        1\n",
      "21        1\n",
      "24        1\n",
      "28        1\n",
      "63        1\n",
      "Name: number_emergency, dtype: int64\n",
      "0     32480\n",
      "1      9363\n",
      "2      3632\n",
      "3      1685\n",
      "4       779\n",
      "5       387\n",
      "6       249\n",
      "7       124\n",
      "8        70\n",
      "9        58\n",
      "10       29\n",
      "11       20\n",
      "12       11\n",
      "13       11\n",
      "14        6\n",
      "16        3\n",
      "15        2\n",
      "18        1\n",
      "19        1\n",
      "Name: number_inpatient, dtype: int64\n",
      "428    3335\n",
      "414    3137\n",
      "786    1949\n",
      "410    1745\n",
      "486    1658\n",
      "       ... \n",
      "374       1\n",
      "501       1\n",
      "833       1\n",
      "336       1\n",
      "911       1\n",
      "Name: diag_1, Length: 652, dtype: int64\n",
      "276     3245\n",
      "428     3194\n",
      "250     3031\n",
      "427     2351\n",
      "401     1726\n",
      "        ... \n",
      "E931       1\n",
      "E965       1\n",
      "325        1\n",
      "955        1\n",
      "797        1\n",
      "Name: diag_2, Length: 656, dtype: int64\n",
      "250     5508\n",
      "401     4020\n",
      "276     2484\n",
      "428     2210\n",
      "427     1948\n",
      "        ... \n",
      "152        1\n",
      "989        1\n",
      "868        1\n",
      "299        1\n",
      "E852       1\n",
      "Name: diag_3, Length: 707, dtype: int64\n",
      "250     5508\n",
      "401     4020\n",
      "276     2484\n",
      "428     2210\n",
      "427     1948\n",
      "        ... \n",
      "152        1\n",
      "989        1\n",
      "868        1\n",
      "299        1\n",
      "E852       1\n",
      "Name: diag_4, Length: 707, dtype: int64\n",
      "96.109261    1\n",
      "89.426103    1\n",
      "90.858884    1\n",
      "68.509601    1\n",
      "36.082231    1\n",
      "            ..\n",
      "91.887477    1\n",
      "23.335960    1\n",
      "58.004277    1\n",
      "17.179164    1\n",
      "67.140578    1\n",
      "Name: diag_5, Length: 48911, dtype: int64\n",
      "9     23832\n",
      "5      5484\n",
      "8      5116\n",
      "7      4942\n",
      "6      4855\n",
      "4      2657\n",
      "3      1378\n",
      "2       493\n",
      "1       102\n",
      "16       19\n",
      "10       11\n",
      "13        9\n",
      "11        5\n",
      "12        3\n",
      "14        3\n",
      "15        2\n",
      "Name: number_diagnoses, dtype: int64\n",
      "None    46340\n",
      "Norm     1231\n",
      ">200      722\n",
      ">300      618\n",
      "Name: X1, dtype: int64\n",
      "None    40722\n",
      ">8       3926\n",
      "Norm     2397\n",
      ">7       1866\n",
      "Name: X2, dtype: int64\n",
      "No        39298\n",
      "Steady     8789\n",
      "Up          527\n",
      "Down        297\n",
      "Name: X3, dtype: int64\n",
      "No        48153\n",
      "Steady      695\n",
      "Up           42\n",
      "Down         21\n",
      "Name: X4, dtype: int64\n",
      "No        48554\n",
      "Steady      334\n",
      "Up           14\n",
      "Down          9\n",
      "Name: X5, dtype: int64\n",
      "No        48861\n",
      "Steady       46\n",
      "Up            4\n",
      "Name: X6, dtype: int64\n",
      "No        46423\n",
      "Steady     2246\n",
      "Up          147\n",
      "Down         95\n",
      "Name: X7, dtype: int64\n",
      "No    48911\n",
      "Name: X8, dtype: int64\n",
      "No        42840\n",
      "Steady     5445\n",
      "Up          364\n",
      "Down        262\n",
      "Name: X9, dtype: int64\n",
      "No        43832\n",
      "Steady     4419\n",
      "Up          385\n",
      "Down        275\n",
      "Name: X10, dtype: int64\n",
      "No        48900\n",
      "Steady       11\n",
      "Name: X11, dtype: int64\n",
      "No        45360\n",
      "Steady     3382\n",
      "Up          113\n",
      "Down         56\n",
      "Name: X12, dtype: int64\n",
      "No        45853\n",
      "Steady     2932\n",
      "Up           80\n",
      "Down         46\n",
      "Name: X13, dtype: int64\n",
      "No        48752\n",
      "Steady      152\n",
      "Up            6\n",
      "Down          1\n",
      "Name: X14, dtype: int64\n",
      "No        48899\n",
      "Steady       10\n",
      "Down          2\n",
      "Name: X15, dtype: int64\n",
      "No        48909\n",
      "Steady        2\n",
      "Name: X16, dtype: int64\n",
      "No        48888\n",
      "Steady       23\n",
      "Name: X17, dtype: int64\n",
      "No    48911\n",
      "Name: X18, dtype: int64\n",
      "No    48911\n",
      "Name: X19, dtype: int64\n",
      "No        22854\n",
      "Steady    14722\n",
      "Down       5868\n",
      "Up         5467\n",
      "Name: X20, dtype: int64\n",
      "No        48561\n",
      "Steady      342\n",
      "Up            4\n",
      "Down          4\n",
      "Name: X21, dtype: int64\n",
      "No        48903\n",
      "Steady        8\n",
      "Name: X22, dtype: int64\n",
      "No        48910\n",
      "Steady        1\n",
      "Name: X23, dtype: int64\n",
      "No        48909\n",
      "Steady        2\n",
      "Name: X24, dtype: int64\n",
      "No    48911\n",
      "Name: X25, dtype: int64\n",
      "No    26364\n",
      "Ch    22547\n",
      "Name: change, dtype: int64\n",
      "Yes    37640\n",
      "No     11271\n",
      "Name: diabetesMed, dtype: int64\n",
      "0    26302\n",
      "1    22609\n",
      "Name: readmitted, dtype: int64\n"
     ]
    }
   ],
   "source": [
    "## checking the value count of each features.\n",
    "\n",
    "\n",
    "for col in df1.columns:\n",
    "    print(df1[col].value_counts())"
   ]
  },
  {
   "cell_type": "code",
   "execution_count": 20,
   "id": "6043bba3",
   "metadata": {},
   "outputs": [],
   "source": [
    "## replcing '?' with null value\n",
    "\n",
    "df1.replace(\"?\",np.nan,inplace=True)"
   ]
  },
  {
   "cell_type": "code",
   "execution_count": 21,
   "id": "3a38597c",
   "metadata": {
    "scrolled": true
   },
   "outputs": [
    {
     "data": {
      "text/plain": [
       "race                   1114\n",
       "gender                    0\n",
       "age                       0\n",
       "time_in_hospital          0\n",
       "medical_specialty     23983\n",
       "num_lab_procedures        0\n",
       "num_procedures            0\n",
       "num_medications           0\n",
       "number_outpatient         0\n",
       "number_emergency          0\n",
       "number_inpatient          0\n",
       "diag_1                   11\n",
       "diag_2                  172\n",
       "diag_3                  685\n",
       "diag_4                  685\n",
       "diag_5                    0\n",
       "number_diagnoses          0\n",
       "X1                        0\n",
       "X2                        0\n",
       "X3                        0\n",
       "X4                        0\n",
       "X5                        0\n",
       "X6                        0\n",
       "X7                        0\n",
       "X8                        0\n",
       "X9                        0\n",
       "X10                       0\n",
       "X11                       0\n",
       "X12                       0\n",
       "X13                       0\n",
       "X14                       0\n",
       "X15                       0\n",
       "X16                       0\n",
       "X17                       0\n",
       "X18                       0\n",
       "X19                       0\n",
       "X20                       0\n",
       "X21                       0\n",
       "X22                       0\n",
       "X23                       0\n",
       "X24                       0\n",
       "X25                       0\n",
       "change                    0\n",
       "diabetesMed               0\n",
       "readmitted                0\n",
       "dtype: int64"
      ]
     },
     "execution_count": 21,
     "metadata": {},
     "output_type": "execute_result"
    }
   ],
   "source": [
    "df1.isnull().sum()"
   ]
  },
  {
   "cell_type": "code",
   "execution_count": 22,
   "id": "7f0174a6",
   "metadata": {},
   "outputs": [],
   "source": [
    "#replacing the null with mode.\n",
    "\n",
    "df1['race']=df1['race'].fillna(df1['race'].mode()[0])"
   ]
  },
  {
   "cell_type": "code",
   "execution_count": 23,
   "id": "bfafa7fa",
   "metadata": {
    "scrolled": true
   },
   "outputs": [],
   "source": [
    "#df1['medical_specialty']=df1['medical_specialty'].fillna(df1['medical_specialty'].mode()[0df])\n",
    "\n",
    "df1.drop(['medical_specialty'],axis=1,inplace=True)"
   ]
  },
  {
   "cell_type": "code",
   "execution_count": 24,
   "id": "ef7f7882",
   "metadata": {},
   "outputs": [
    {
     "data": {
      "text/plain": [
       "1553"
      ]
     },
     "execution_count": 24,
     "metadata": {},
     "output_type": "execute_result"
    }
   ],
   "source": [
    "df1.isnull().sum().sum()"
   ]
  },
  {
   "cell_type": "code",
   "execution_count": 25,
   "id": "9629452d",
   "metadata": {},
   "outputs": [],
   "source": [
    "df1['diag_3']=df1['diag_3'].fillna(df1['diag_3'].mode()[0])"
   ]
  },
  {
   "cell_type": "code",
   "execution_count": 26,
   "id": "046449c5",
   "metadata": {},
   "outputs": [],
   "source": [
    "df1['diag_4']=df1['diag_4'].fillna(df1['diag_4'].mode()[0])"
   ]
  },
  {
   "cell_type": "code",
   "execution_count": 27,
   "id": "4ef6d939",
   "metadata": {},
   "outputs": [],
   "source": [
    "df1=df1.dropna(axis=0)"
   ]
  },
  {
   "cell_type": "code",
   "execution_count": 28,
   "id": "84ab3f53",
   "metadata": {},
   "outputs": [
    {
     "data": {
      "text/plain": [
       "0"
      ]
     },
     "execution_count": 28,
     "metadata": {},
     "output_type": "execute_result"
    }
   ],
   "source": [
    "\n",
    "df1.isnull().sum().sum()"
   ]
  },
  {
   "cell_type": "code",
   "execution_count": 29,
   "id": "fd6327fe",
   "metadata": {
    "scrolled": true
   },
   "outputs": [
    {
     "data": {
      "text/html": [
       "<div>\n",
       "<style scoped>\n",
       "    .dataframe tbody tr th:only-of-type {\n",
       "        vertical-align: middle;\n",
       "    }\n",
       "\n",
       "    .dataframe tbody tr th {\n",
       "        vertical-align: top;\n",
       "    }\n",
       "\n",
       "    .dataframe thead th {\n",
       "        text-align: right;\n",
       "    }\n",
       "</style>\n",
       "<table border=\"1\" class=\"dataframe\">\n",
       "  <thead>\n",
       "    <tr style=\"text-align: right;\">\n",
       "      <th></th>\n",
       "      <th>race</th>\n",
       "      <th>gender</th>\n",
       "      <th>age</th>\n",
       "      <th>time_in_hospital</th>\n",
       "      <th>num_lab_procedures</th>\n",
       "      <th>num_procedures</th>\n",
       "      <th>num_medications</th>\n",
       "      <th>number_outpatient</th>\n",
       "      <th>number_emergency</th>\n",
       "      <th>number_inpatient</th>\n",
       "      <th>...</th>\n",
       "      <th>X19</th>\n",
       "      <th>X20</th>\n",
       "      <th>X21</th>\n",
       "      <th>X22</th>\n",
       "      <th>X23</th>\n",
       "      <th>X24</th>\n",
       "      <th>X25</th>\n",
       "      <th>change</th>\n",
       "      <th>diabetesMed</th>\n",
       "      <th>readmitted</th>\n",
       "    </tr>\n",
       "  </thead>\n",
       "  <tbody>\n",
       "    <tr>\n",
       "      <th>0</th>\n",
       "      <td>Hispanic</td>\n",
       "      <td>Male</td>\n",
       "      <td>[80-90)</td>\n",
       "      <td>4</td>\n",
       "      <td>39</td>\n",
       "      <td>1</td>\n",
       "      <td>9</td>\n",
       "      <td>1</td>\n",
       "      <td>1</td>\n",
       "      <td>4</td>\n",
       "      <td>...</td>\n",
       "      <td>No</td>\n",
       "      <td>No</td>\n",
       "      <td>No</td>\n",
       "      <td>No</td>\n",
       "      <td>No</td>\n",
       "      <td>No</td>\n",
       "      <td>No</td>\n",
       "      <td>No</td>\n",
       "      <td>Yes</td>\n",
       "      <td>1</td>\n",
       "    </tr>\n",
       "    <tr>\n",
       "      <th>1</th>\n",
       "      <td>Caucasian</td>\n",
       "      <td>Male</td>\n",
       "      <td>[60-70)</td>\n",
       "      <td>3</td>\n",
       "      <td>34</td>\n",
       "      <td>1</td>\n",
       "      <td>12</td>\n",
       "      <td>0</td>\n",
       "      <td>0</td>\n",
       "      <td>0</td>\n",
       "      <td>...</td>\n",
       "      <td>No</td>\n",
       "      <td>No</td>\n",
       "      <td>No</td>\n",
       "      <td>No</td>\n",
       "      <td>No</td>\n",
       "      <td>No</td>\n",
       "      <td>No</td>\n",
       "      <td>No</td>\n",
       "      <td>No</td>\n",
       "      <td>0</td>\n",
       "    </tr>\n",
       "    <tr>\n",
       "      <th>2</th>\n",
       "      <td>Caucasian</td>\n",
       "      <td>Female</td>\n",
       "      <td>[50-60)</td>\n",
       "      <td>6</td>\n",
       "      <td>50</td>\n",
       "      <td>2</td>\n",
       "      <td>24</td>\n",
       "      <td>0</td>\n",
       "      <td>0</td>\n",
       "      <td>5</td>\n",
       "      <td>...</td>\n",
       "      <td>No</td>\n",
       "      <td>Down</td>\n",
       "      <td>No</td>\n",
       "      <td>No</td>\n",
       "      <td>No</td>\n",
       "      <td>No</td>\n",
       "      <td>No</td>\n",
       "      <td>Ch</td>\n",
       "      <td>Yes</td>\n",
       "      <td>1</td>\n",
       "    </tr>\n",
       "    <tr>\n",
       "      <th>3</th>\n",
       "      <td>AfricanAmerican</td>\n",
       "      <td>Female</td>\n",
       "      <td>[70-80)</td>\n",
       "      <td>5</td>\n",
       "      <td>63</td>\n",
       "      <td>0</td>\n",
       "      <td>14</td>\n",
       "      <td>0</td>\n",
       "      <td>0</td>\n",
       "      <td>0</td>\n",
       "      <td>...</td>\n",
       "      <td>No</td>\n",
       "      <td>Down</td>\n",
       "      <td>No</td>\n",
       "      <td>No</td>\n",
       "      <td>No</td>\n",
       "      <td>No</td>\n",
       "      <td>No</td>\n",
       "      <td>Ch</td>\n",
       "      <td>Yes</td>\n",
       "      <td>1</td>\n",
       "    </tr>\n",
       "    <tr>\n",
       "      <th>4</th>\n",
       "      <td>Caucasian</td>\n",
       "      <td>Male</td>\n",
       "      <td>[70-80)</td>\n",
       "      <td>9</td>\n",
       "      <td>17</td>\n",
       "      <td>1</td>\n",
       "      <td>11</td>\n",
       "      <td>0</td>\n",
       "      <td>0</td>\n",
       "      <td>0</td>\n",
       "      <td>...</td>\n",
       "      <td>No</td>\n",
       "      <td>No</td>\n",
       "      <td>No</td>\n",
       "      <td>No</td>\n",
       "      <td>No</td>\n",
       "      <td>No</td>\n",
       "      <td>No</td>\n",
       "      <td>No</td>\n",
       "      <td>No</td>\n",
       "      <td>1</td>\n",
       "    </tr>\n",
       "  </tbody>\n",
       "</table>\n",
       "<p>5 rows × 44 columns</p>\n",
       "</div>"
      ],
      "text/plain": [
       "              race  gender      age  time_in_hospital  num_lab_procedures  \\\n",
       "0         Hispanic    Male  [80-90)                 4                  39   \n",
       "1        Caucasian    Male  [60-70)                 3                  34   \n",
       "2        Caucasian  Female  [50-60)                 6                  50   \n",
       "3  AfricanAmerican  Female  [70-80)                 5                  63   \n",
       "4        Caucasian    Male  [70-80)                 9                  17   \n",
       "\n",
       "   num_procedures  num_medications  number_outpatient  number_emergency  \\\n",
       "0               1                9                  1                 1   \n",
       "1               1               12                  0                 0   \n",
       "2               2               24                  0                 0   \n",
       "3               0               14                  0                 0   \n",
       "4               1               11                  0                 0   \n",
       "\n",
       "   number_inpatient  ... X19   X20 X21 X22  X23  X24 X25 change diabetesMed  \\\n",
       "0                 4  ...  No    No  No  No   No   No  No     No         Yes   \n",
       "1                 0  ...  No    No  No  No   No   No  No     No          No   \n",
       "2                 5  ...  No  Down  No  No   No   No  No     Ch         Yes   \n",
       "3                 0  ...  No  Down  No  No   No   No  No     Ch         Yes   \n",
       "4                 0  ...  No    No  No  No   No   No  No     No          No   \n",
       "\n",
       "  readmitted  \n",
       "0          1  \n",
       "1          0  \n",
       "2          1  \n",
       "3          1  \n",
       "4          1  \n",
       "\n",
       "[5 rows x 44 columns]"
      ]
     },
     "execution_count": 29,
     "metadata": {},
     "output_type": "execute_result"
    }
   ],
   "source": [
    "df1.head()"
   ]
  },
  {
   "cell_type": "code",
   "execution_count": 30,
   "id": "5ee9f51f",
   "metadata": {
    "scrolled": false
   },
   "outputs": [
    {
     "data": {
      "text/html": [
       "<div>\n",
       "<style scoped>\n",
       "    .dataframe tbody tr th:only-of-type {\n",
       "        vertical-align: middle;\n",
       "    }\n",
       "\n",
       "    .dataframe tbody tr th {\n",
       "        vertical-align: top;\n",
       "    }\n",
       "\n",
       "    .dataframe thead th {\n",
       "        text-align: right;\n",
       "    }\n",
       "</style>\n",
       "<table border=\"1\" class=\"dataframe\">\n",
       "  <thead>\n",
       "    <tr style=\"text-align: right;\">\n",
       "      <th></th>\n",
       "      <th>time_in_hospital</th>\n",
       "      <th>num_lab_procedures</th>\n",
       "      <th>num_procedures</th>\n",
       "      <th>num_medications</th>\n",
       "      <th>number_outpatient</th>\n",
       "      <th>number_emergency</th>\n",
       "      <th>number_inpatient</th>\n",
       "      <th>diag_5</th>\n",
       "      <th>number_diagnoses</th>\n",
       "      <th>readmitted</th>\n",
       "    </tr>\n",
       "  </thead>\n",
       "  <tbody>\n",
       "    <tr>\n",
       "      <th>count</th>\n",
       "      <td>48729.000000</td>\n",
       "      <td>48729.000000</td>\n",
       "      <td>48729.000000</td>\n",
       "      <td>48729.000000</td>\n",
       "      <td>48729.000000</td>\n",
       "      <td>48729.000000</td>\n",
       "      <td>48729.000000</td>\n",
       "      <td>48729.000000</td>\n",
       "      <td>48729.000000</td>\n",
       "      <td>48729.000000</td>\n",
       "    </tr>\n",
       "    <tr>\n",
       "      <th>mean</th>\n",
       "      <td>4.407765</td>\n",
       "      <td>43.109852</td>\n",
       "      <td>1.337725</td>\n",
       "      <td>16.057543</td>\n",
       "      <td>0.369841</td>\n",
       "      <td>0.205524</td>\n",
       "      <td>0.638285</td>\n",
       "      <td>49.852937</td>\n",
       "      <td>7.440436</td>\n",
       "      <td>0.462846</td>\n",
       "    </tr>\n",
       "    <tr>\n",
       "      <th>std</th>\n",
       "      <td>2.988745</td>\n",
       "      <td>19.640402</td>\n",
       "      <td>1.708628</td>\n",
       "      <td>8.136720</td>\n",
       "      <td>1.233766</td>\n",
       "      <td>0.935608</td>\n",
       "      <td>1.259314</td>\n",
       "      <td>28.855028</td>\n",
       "      <td>1.911626</td>\n",
       "      <td>0.498623</td>\n",
       "    </tr>\n",
       "    <tr>\n",
       "      <th>min</th>\n",
       "      <td>1.000000</td>\n",
       "      <td>1.000000</td>\n",
       "      <td>0.000000</td>\n",
       "      <td>1.000000</td>\n",
       "      <td>0.000000</td>\n",
       "      <td>0.000000</td>\n",
       "      <td>0.000000</td>\n",
       "      <td>0.000283</td>\n",
       "      <td>2.000000</td>\n",
       "      <td>0.000000</td>\n",
       "    </tr>\n",
       "    <tr>\n",
       "      <th>25%</th>\n",
       "      <td>2.000000</td>\n",
       "      <td>31.000000</td>\n",
       "      <td>0.000000</td>\n",
       "      <td>10.000000</td>\n",
       "      <td>0.000000</td>\n",
       "      <td>0.000000</td>\n",
       "      <td>0.000000</td>\n",
       "      <td>24.954927</td>\n",
       "      <td>6.000000</td>\n",
       "      <td>0.000000</td>\n",
       "    </tr>\n",
       "    <tr>\n",
       "      <th>50%</th>\n",
       "      <td>4.000000</td>\n",
       "      <td>44.000000</td>\n",
       "      <td>1.000000</td>\n",
       "      <td>15.000000</td>\n",
       "      <td>0.000000</td>\n",
       "      <td>0.000000</td>\n",
       "      <td>0.000000</td>\n",
       "      <td>49.760821</td>\n",
       "      <td>8.000000</td>\n",
       "      <td>0.000000</td>\n",
       "    </tr>\n",
       "    <tr>\n",
       "      <th>75%</th>\n",
       "      <td>6.000000</td>\n",
       "      <td>57.000000</td>\n",
       "      <td>2.000000</td>\n",
       "      <td>20.000000</td>\n",
       "      <td>0.000000</td>\n",
       "      <td>0.000000</td>\n",
       "      <td>1.000000</td>\n",
       "      <td>74.831931</td>\n",
       "      <td>9.000000</td>\n",
       "      <td>1.000000</td>\n",
       "    </tr>\n",
       "    <tr>\n",
       "      <th>max</th>\n",
       "      <td>14.000000</td>\n",
       "      <td>129.000000</td>\n",
       "      <td>6.000000</td>\n",
       "      <td>81.000000</td>\n",
       "      <td>39.000000</td>\n",
       "      <td>63.000000</td>\n",
       "      <td>19.000000</td>\n",
       "      <td>99.995810</td>\n",
       "      <td>16.000000</td>\n",
       "      <td>1.000000</td>\n",
       "    </tr>\n",
       "  </tbody>\n",
       "</table>\n",
       "</div>"
      ],
      "text/plain": [
       "       time_in_hospital  num_lab_procedures  num_procedures  num_medications  \\\n",
       "count      48729.000000        48729.000000    48729.000000     48729.000000   \n",
       "mean           4.407765           43.109852        1.337725        16.057543   \n",
       "std            2.988745           19.640402        1.708628         8.136720   \n",
       "min            1.000000            1.000000        0.000000         1.000000   \n",
       "25%            2.000000           31.000000        0.000000        10.000000   \n",
       "50%            4.000000           44.000000        1.000000        15.000000   \n",
       "75%            6.000000           57.000000        2.000000        20.000000   \n",
       "max           14.000000          129.000000        6.000000        81.000000   \n",
       "\n",
       "       number_outpatient  number_emergency  number_inpatient        diag_5  \\\n",
       "count       48729.000000      48729.000000      48729.000000  48729.000000   \n",
       "mean            0.369841          0.205524          0.638285     49.852937   \n",
       "std             1.233766          0.935608          1.259314     28.855028   \n",
       "min             0.000000          0.000000          0.000000      0.000283   \n",
       "25%             0.000000          0.000000          0.000000     24.954927   \n",
       "50%             0.000000          0.000000          0.000000     49.760821   \n",
       "75%             0.000000          0.000000          1.000000     74.831931   \n",
       "max            39.000000         63.000000         19.000000     99.995810   \n",
       "\n",
       "       number_diagnoses    readmitted  \n",
       "count      48729.000000  48729.000000  \n",
       "mean           7.440436      0.462846  \n",
       "std            1.911626      0.498623  \n",
       "min            2.000000      0.000000  \n",
       "25%            6.000000      0.000000  \n",
       "50%            8.000000      0.000000  \n",
       "75%            9.000000      1.000000  \n",
       "max           16.000000      1.000000  "
      ]
     },
     "execution_count": 30,
     "metadata": {},
     "output_type": "execute_result"
    }
   ],
   "source": [
    "df1.describe()"
   ]
  },
  {
   "cell_type": "code",
   "execution_count": 31,
   "id": "54b9c75b",
   "metadata": {},
   "outputs": [
    {
     "data": {
      "text/plain": [
       "(48729, 44)"
      ]
     },
     "execution_count": 31,
     "metadata": {},
     "output_type": "execute_result"
    }
   ],
   "source": [
    "df1.shape"
   ]
  },
  {
   "cell_type": "code",
   "execution_count": 32,
   "id": "32490774",
   "metadata": {},
   "outputs": [
    {
     "data": {
      "text/plain": [
       "(48911, 49)"
      ]
     },
     "execution_count": 32,
     "metadata": {},
     "output_type": "execute_result"
    }
   ],
   "source": [
    "## # Detecting Outliers:\n",
    "\n",
    "df.shape"
   ]
  },
  {
   "cell_type": "code",
   "execution_count": 33,
   "id": "d1f39e28",
   "metadata": {},
   "outputs": [],
   "source": [
    "ot_columns=['time_in_hospital','num_lab_procedures','num_procedures','num_medications','number_outpatient',\n",
    "           'number_emergency','number_inpatient','diag_5','number_diagnoses']"
   ]
  },
  {
   "cell_type": "code",
   "execution_count": 34,
   "id": "dc550387",
   "metadata": {
    "scrolled": true
   },
   "outputs": [
    {
     "name": "stdout",
     "output_type": "stream",
     "text": [
      "Outliers for : time_in_hospital \n",
      "\n",
      "2.0 6.0 4.0\n",
      "Upper 12.0\n",
      "(array([    8,    30,    46, ..., 48511, 48545, 48674], dtype=int64),)\n",
      "lower -4.0\n",
      "(array([], dtype=int64),) \n",
      "\n",
      "Outliers for : num_lab_procedures \n",
      "\n",
      "31.0 57.0 26.0\n",
      "Upper 96.0\n",
      "(array([ 1333,  3072,  3550,  3570,  4163,  4497,  6095,  6527,  6608,\n",
      "        8373,  8700,  8784,  9464,  9499, 10948, 11212, 11411, 12013,\n",
      "       12378, 12835, 12879, 13683, 14289, 14540, 15335, 15852, 16913,\n",
      "       17066, 17687, 17870, 18215, 18896, 19116, 19154, 19745, 19765,\n",
      "       19858, 20130, 22356, 22388, 22722, 23587, 25308, 25697, 26000,\n",
      "       26241, 26420, 26887, 28685, 29736, 30220, 30928, 30968, 32828,\n",
      "       33341, 33816, 34144, 34502, 35430, 35505, 35915, 36409, 37113,\n",
      "       37303, 37826, 37851, 38513, 38579, 38627, 38852, 41392, 43038,\n",
      "       43639, 43871, 45349, 45753, 46051, 46429, 46703, 47464, 48546,\n",
      "       48619], dtype=int64),)\n",
      "lower -8.0\n",
      "(array([], dtype=int64),) \n",
      "\n",
      "Outliers for : num_procedures \n",
      "\n",
      "0.0 2.0 2.0\n",
      "Upper 5.0\n",
      "(array([    8,     9,    13, ..., 48707, 48710, 48718], dtype=int64),)\n",
      "lower -3.0\n",
      "(array([], dtype=int64),) \n",
      "\n",
      "Outliers for : num_medications \n",
      "\n",
      "10.0 20.0 10.0\n",
      "Upper 35.0\n",
      "(array([   13,    66,   101, ..., 48612, 48622, 48724], dtype=int64),)\n",
      "lower -5.0\n",
      "(array([], dtype=int64),) \n",
      "\n",
      "Outliers for : number_outpatient \n",
      "\n",
      "0.0 0.0 0.0\n",
      "Upper 0.0\n",
      "(array([    0,     1,     2, ..., 48726, 48727, 48728], dtype=int64),)\n",
      "lower 0.0\n",
      "(array([    1,     2,     3, ..., 48726, 48727, 48728], dtype=int64),) \n",
      "\n",
      "Outliers for : number_emergency \n",
      "\n",
      "0.0 0.0 0.0\n",
      "Upper 0.0\n",
      "(array([    0,     1,     2, ..., 48726, 48727, 48728], dtype=int64),)\n",
      "lower 0.0\n",
      "(array([    1,     2,     3, ..., 48726, 48727, 48728], dtype=int64),) \n",
      "\n",
      "Outliers for : number_inpatient \n",
      "\n",
      "0.0 1.0 1.0\n",
      "Upper 2.5\n",
      "(array([    0,     2,    19, ..., 48706, 48719, 48721], dtype=int64),)\n",
      "lower -1.5\n",
      "(array([], dtype=int64),) \n",
      "\n",
      "Outliers for : diag_5 \n",
      "\n",
      "24.954927438305685 74.83193114616263 49.87700370785694\n",
      "Upper 149.64743670794803\n",
      "(array([], dtype=int64),)\n",
      "lower -49.860578123479726\n",
      "(array([], dtype=int64),) \n",
      "\n",
      "Outliers for : number_diagnoses \n",
      "\n",
      "6.0 9.0 3.0\n",
      "Upper 13.5\n",
      "(array([ 1759,  3109,  3648,  4244,  9512,  9711, 10131, 11558, 12962,\n",
      "       20761, 21964, 22303, 25159, 26931, 31323, 32213, 33939, 36089,\n",
      "       36219, 38496, 43768, 44443, 46178, 46587], dtype=int64),)\n",
      "lower 1.5\n",
      "(array([], dtype=int64),) \n",
      "\n"
     ]
    }
   ],
   "source": [
    "for col in ot_columns:\n",
    "\n",
    "    q1=np.percentile(df1[col],25) \n",
    "    q3=np.percentile(df1[col],75)\n",
    "\n",
    "    IQR=q3-q1\n",
    "    \n",
    "    print('Outliers for :',col,'\\n')\n",
    "    print(q1,q3,IQR)\n",
    "\n",
    "#detecting upper bounds\n",
    "    upper=q3+1.5*IQR\n",
    "    print('Upper',upper)\n",
    "\n",
    "    up=df1[col]>=upper\n",
    "    print(np.where(up))\n",
    "\n",
    "\n",
    "#detectiong lower bounds\n",
    "    lower=q1-1.5*IQR\n",
    "    print('lower',lower)\n",
    "\n",
    "    lw=df1[col]<=lower\n",
    "    print(np.where(lw),'\\n')"
   ]
  },
  {
   "cell_type": "code",
   "execution_count": 35,
   "id": "c2dd5064",
   "metadata": {},
   "outputs": [],
   "source": [
    "out_columns=['time_in_hospital','num_lab_procedures','num_procedures','num_medications','number_diagnoses']"
   ]
  },
  {
   "cell_type": "code",
   "execution_count": 36,
   "id": "09f265a7",
   "metadata": {},
   "outputs": [
    {
     "name": "stdout",
     "output_type": "stream",
     "text": [
      "1.0 9.0\n",
      "14.0 67.0\n",
      "0.0 4.0\n",
      "7.0 26.0\n",
      "5.0 9.0\n"
     ]
    }
   ],
   "source": [
    "for col in out_columns:\n",
    "    tenth_percentile=np.percentile(df1[col],10)\n",
    "    ninetieth_percentile=np.percentile(df1[col],90)\n",
    "    print(tenth_percentile,ninetieth_percentile)\n",
    "    df1[col]=np.where(df1[col]<tenth_percentile,tenth_percentile,df1[col]) \n",
    "    df1[col]=np.where(df1[col]>ninetieth_percentile,ninetieth_percentile,df1[col])"
   ]
  },
  {
   "cell_type": "code",
   "execution_count": 37,
   "id": "4e78a43c",
   "metadata": {},
   "outputs": [
    {
     "data": {
      "text/html": [
       "<div>\n",
       "<style scoped>\n",
       "    .dataframe tbody tr th:only-of-type {\n",
       "        vertical-align: middle;\n",
       "    }\n",
       "\n",
       "    .dataframe tbody tr th {\n",
       "        vertical-align: top;\n",
       "    }\n",
       "\n",
       "    .dataframe thead th {\n",
       "        text-align: right;\n",
       "    }\n",
       "</style>\n",
       "<table border=\"1\" class=\"dataframe\">\n",
       "  <thead>\n",
       "    <tr style=\"text-align: right;\">\n",
       "      <th></th>\n",
       "      <th>race</th>\n",
       "      <th>gender</th>\n",
       "      <th>age</th>\n",
       "      <th>time_in_hospital</th>\n",
       "      <th>num_lab_procedures</th>\n",
       "      <th>num_procedures</th>\n",
       "      <th>num_medications</th>\n",
       "      <th>number_outpatient</th>\n",
       "      <th>number_emergency</th>\n",
       "      <th>number_inpatient</th>\n",
       "      <th>...</th>\n",
       "      <th>X19</th>\n",
       "      <th>X20</th>\n",
       "      <th>X21</th>\n",
       "      <th>X22</th>\n",
       "      <th>X23</th>\n",
       "      <th>X24</th>\n",
       "      <th>X25</th>\n",
       "      <th>change</th>\n",
       "      <th>diabetesMed</th>\n",
       "      <th>readmitted</th>\n",
       "    </tr>\n",
       "  </thead>\n",
       "  <tbody>\n",
       "    <tr>\n",
       "      <th>0</th>\n",
       "      <td>Hispanic</td>\n",
       "      <td>Male</td>\n",
       "      <td>[80-90)</td>\n",
       "      <td>4.0</td>\n",
       "      <td>39.0</td>\n",
       "      <td>1.0</td>\n",
       "      <td>9.0</td>\n",
       "      <td>1</td>\n",
       "      <td>1</td>\n",
       "      <td>4</td>\n",
       "      <td>...</td>\n",
       "      <td>No</td>\n",
       "      <td>No</td>\n",
       "      <td>No</td>\n",
       "      <td>No</td>\n",
       "      <td>No</td>\n",
       "      <td>No</td>\n",
       "      <td>No</td>\n",
       "      <td>No</td>\n",
       "      <td>Yes</td>\n",
       "      <td>1</td>\n",
       "    </tr>\n",
       "    <tr>\n",
       "      <th>1</th>\n",
       "      <td>Caucasian</td>\n",
       "      <td>Male</td>\n",
       "      <td>[60-70)</td>\n",
       "      <td>3.0</td>\n",
       "      <td>34.0</td>\n",
       "      <td>1.0</td>\n",
       "      <td>12.0</td>\n",
       "      <td>0</td>\n",
       "      <td>0</td>\n",
       "      <td>0</td>\n",
       "      <td>...</td>\n",
       "      <td>No</td>\n",
       "      <td>No</td>\n",
       "      <td>No</td>\n",
       "      <td>No</td>\n",
       "      <td>No</td>\n",
       "      <td>No</td>\n",
       "      <td>No</td>\n",
       "      <td>No</td>\n",
       "      <td>No</td>\n",
       "      <td>0</td>\n",
       "    </tr>\n",
       "    <tr>\n",
       "      <th>2</th>\n",
       "      <td>Caucasian</td>\n",
       "      <td>Female</td>\n",
       "      <td>[50-60)</td>\n",
       "      <td>6.0</td>\n",
       "      <td>50.0</td>\n",
       "      <td>2.0</td>\n",
       "      <td>24.0</td>\n",
       "      <td>0</td>\n",
       "      <td>0</td>\n",
       "      <td>5</td>\n",
       "      <td>...</td>\n",
       "      <td>No</td>\n",
       "      <td>Down</td>\n",
       "      <td>No</td>\n",
       "      <td>No</td>\n",
       "      <td>No</td>\n",
       "      <td>No</td>\n",
       "      <td>No</td>\n",
       "      <td>Ch</td>\n",
       "      <td>Yes</td>\n",
       "      <td>1</td>\n",
       "    </tr>\n",
       "    <tr>\n",
       "      <th>3</th>\n",
       "      <td>AfricanAmerican</td>\n",
       "      <td>Female</td>\n",
       "      <td>[70-80)</td>\n",
       "      <td>5.0</td>\n",
       "      <td>63.0</td>\n",
       "      <td>0.0</td>\n",
       "      <td>14.0</td>\n",
       "      <td>0</td>\n",
       "      <td>0</td>\n",
       "      <td>0</td>\n",
       "      <td>...</td>\n",
       "      <td>No</td>\n",
       "      <td>Down</td>\n",
       "      <td>No</td>\n",
       "      <td>No</td>\n",
       "      <td>No</td>\n",
       "      <td>No</td>\n",
       "      <td>No</td>\n",
       "      <td>Ch</td>\n",
       "      <td>Yes</td>\n",
       "      <td>1</td>\n",
       "    </tr>\n",
       "    <tr>\n",
       "      <th>4</th>\n",
       "      <td>Caucasian</td>\n",
       "      <td>Male</td>\n",
       "      <td>[70-80)</td>\n",
       "      <td>9.0</td>\n",
       "      <td>17.0</td>\n",
       "      <td>1.0</td>\n",
       "      <td>11.0</td>\n",
       "      <td>0</td>\n",
       "      <td>0</td>\n",
       "      <td>0</td>\n",
       "      <td>...</td>\n",
       "      <td>No</td>\n",
       "      <td>No</td>\n",
       "      <td>No</td>\n",
       "      <td>No</td>\n",
       "      <td>No</td>\n",
       "      <td>No</td>\n",
       "      <td>No</td>\n",
       "      <td>No</td>\n",
       "      <td>No</td>\n",
       "      <td>1</td>\n",
       "    </tr>\n",
       "    <tr>\n",
       "      <th>...</th>\n",
       "      <td>...</td>\n",
       "      <td>...</td>\n",
       "      <td>...</td>\n",
       "      <td>...</td>\n",
       "      <td>...</td>\n",
       "      <td>...</td>\n",
       "      <td>...</td>\n",
       "      <td>...</td>\n",
       "      <td>...</td>\n",
       "      <td>...</td>\n",
       "      <td>...</td>\n",
       "      <td>...</td>\n",
       "      <td>...</td>\n",
       "      <td>...</td>\n",
       "      <td>...</td>\n",
       "      <td>...</td>\n",
       "      <td>...</td>\n",
       "      <td>...</td>\n",
       "      <td>...</td>\n",
       "      <td>...</td>\n",
       "      <td>...</td>\n",
       "    </tr>\n",
       "    <tr>\n",
       "      <th>66582</th>\n",
       "      <td>Caucasian</td>\n",
       "      <td>Female</td>\n",
       "      <td>[70-80)</td>\n",
       "      <td>9.0</td>\n",
       "      <td>40.0</td>\n",
       "      <td>4.0</td>\n",
       "      <td>26.0</td>\n",
       "      <td>0</td>\n",
       "      <td>0</td>\n",
       "      <td>0</td>\n",
       "      <td>...</td>\n",
       "      <td>No</td>\n",
       "      <td>Steady</td>\n",
       "      <td>No</td>\n",
       "      <td>No</td>\n",
       "      <td>No</td>\n",
       "      <td>No</td>\n",
       "      <td>No</td>\n",
       "      <td>No</td>\n",
       "      <td>Yes</td>\n",
       "      <td>0</td>\n",
       "    </tr>\n",
       "    <tr>\n",
       "      <th>66583</th>\n",
       "      <td>Caucasian</td>\n",
       "      <td>Male</td>\n",
       "      <td>[80-90)</td>\n",
       "      <td>4.0</td>\n",
       "      <td>39.0</td>\n",
       "      <td>1.0</td>\n",
       "      <td>7.0</td>\n",
       "      <td>0</td>\n",
       "      <td>0</td>\n",
       "      <td>0</td>\n",
       "      <td>...</td>\n",
       "      <td>No</td>\n",
       "      <td>No</td>\n",
       "      <td>No</td>\n",
       "      <td>No</td>\n",
       "      <td>No</td>\n",
       "      <td>No</td>\n",
       "      <td>No</td>\n",
       "      <td>No</td>\n",
       "      <td>No</td>\n",
       "      <td>1</td>\n",
       "    </tr>\n",
       "    <tr>\n",
       "      <th>66584</th>\n",
       "      <td>Caucasian</td>\n",
       "      <td>Female</td>\n",
       "      <td>[60-70)</td>\n",
       "      <td>2.0</td>\n",
       "      <td>24.0</td>\n",
       "      <td>1.0</td>\n",
       "      <td>13.0</td>\n",
       "      <td>0</td>\n",
       "      <td>0</td>\n",
       "      <td>2</td>\n",
       "      <td>...</td>\n",
       "      <td>No</td>\n",
       "      <td>No</td>\n",
       "      <td>No</td>\n",
       "      <td>No</td>\n",
       "      <td>No</td>\n",
       "      <td>No</td>\n",
       "      <td>No</td>\n",
       "      <td>No</td>\n",
       "      <td>Yes</td>\n",
       "      <td>1</td>\n",
       "    </tr>\n",
       "    <tr>\n",
       "      <th>66585</th>\n",
       "      <td>Caucasian</td>\n",
       "      <td>Female</td>\n",
       "      <td>[80-90)</td>\n",
       "      <td>4.0</td>\n",
       "      <td>39.0</td>\n",
       "      <td>1.0</td>\n",
       "      <td>14.0</td>\n",
       "      <td>0</td>\n",
       "      <td>0</td>\n",
       "      <td>0</td>\n",
       "      <td>...</td>\n",
       "      <td>No</td>\n",
       "      <td>No</td>\n",
       "      <td>No</td>\n",
       "      <td>No</td>\n",
       "      <td>No</td>\n",
       "      <td>No</td>\n",
       "      <td>No</td>\n",
       "      <td>No</td>\n",
       "      <td>No</td>\n",
       "      <td>0</td>\n",
       "    </tr>\n",
       "    <tr>\n",
       "      <th>66586</th>\n",
       "      <td>Caucasian</td>\n",
       "      <td>Female</td>\n",
       "      <td>[80-90)</td>\n",
       "      <td>2.0</td>\n",
       "      <td>38.0</td>\n",
       "      <td>2.0</td>\n",
       "      <td>12.0</td>\n",
       "      <td>0</td>\n",
       "      <td>0</td>\n",
       "      <td>0</td>\n",
       "      <td>...</td>\n",
       "      <td>No</td>\n",
       "      <td>Steady</td>\n",
       "      <td>No</td>\n",
       "      <td>No</td>\n",
       "      <td>No</td>\n",
       "      <td>No</td>\n",
       "      <td>No</td>\n",
       "      <td>Ch</td>\n",
       "      <td>Yes</td>\n",
       "      <td>1</td>\n",
       "    </tr>\n",
       "  </tbody>\n",
       "</table>\n",
       "<p>48729 rows × 44 columns</p>\n",
       "</div>"
      ],
      "text/plain": [
       "                  race  gender      age  time_in_hospital  num_lab_procedures  \\\n",
       "0             Hispanic    Male  [80-90)               4.0                39.0   \n",
       "1            Caucasian    Male  [60-70)               3.0                34.0   \n",
       "2            Caucasian  Female  [50-60)               6.0                50.0   \n",
       "3      AfricanAmerican  Female  [70-80)               5.0                63.0   \n",
       "4            Caucasian    Male  [70-80)               9.0                17.0   \n",
       "...                ...     ...      ...               ...                 ...   \n",
       "66582        Caucasian  Female  [70-80)               9.0                40.0   \n",
       "66583        Caucasian    Male  [80-90)               4.0                39.0   \n",
       "66584        Caucasian  Female  [60-70)               2.0                24.0   \n",
       "66585        Caucasian  Female  [80-90)               4.0                39.0   \n",
       "66586        Caucasian  Female  [80-90)               2.0                38.0   \n",
       "\n",
       "       num_procedures  num_medications  number_outpatient  number_emergency  \\\n",
       "0                 1.0              9.0                  1                 1   \n",
       "1                 1.0             12.0                  0                 0   \n",
       "2                 2.0             24.0                  0                 0   \n",
       "3                 0.0             14.0                  0                 0   \n",
       "4                 1.0             11.0                  0                 0   \n",
       "...               ...              ...                ...               ...   \n",
       "66582             4.0             26.0                  0                 0   \n",
       "66583             1.0              7.0                  0                 0   \n",
       "66584             1.0             13.0                  0                 0   \n",
       "66585             1.0             14.0                  0                 0   \n",
       "66586             2.0             12.0                  0                 0   \n",
       "\n",
       "       number_inpatient  ... X19     X20 X21 X22  X23  X24 X25 change  \\\n",
       "0                     4  ...  No      No  No  No   No   No  No     No   \n",
       "1                     0  ...  No      No  No  No   No   No  No     No   \n",
       "2                     5  ...  No    Down  No  No   No   No  No     Ch   \n",
       "3                     0  ...  No    Down  No  No   No   No  No     Ch   \n",
       "4                     0  ...  No      No  No  No   No   No  No     No   \n",
       "...                 ...  ...  ..     ...  ..  ..  ...  ...  ..    ...   \n",
       "66582                 0  ...  No  Steady  No  No   No   No  No     No   \n",
       "66583                 0  ...  No      No  No  No   No   No  No     No   \n",
       "66584                 2  ...  No      No  No  No   No   No  No     No   \n",
       "66585                 0  ...  No      No  No  No   No   No  No     No   \n",
       "66586                 0  ...  No  Steady  No  No   No   No  No     Ch   \n",
       "\n",
       "      diabetesMed readmitted  \n",
       "0             Yes          1  \n",
       "1              No          0  \n",
       "2             Yes          1  \n",
       "3             Yes          1  \n",
       "4              No          1  \n",
       "...           ...        ...  \n",
       "66582         Yes          0  \n",
       "66583          No          1  \n",
       "66584         Yes          1  \n",
       "66585          No          0  \n",
       "66586         Yes          1  \n",
       "\n",
       "[48729 rows x 44 columns]"
      ]
     },
     "execution_count": 37,
     "metadata": {},
     "output_type": "execute_result"
    }
   ],
   "source": [
    "df1"
   ]
  },
  {
   "cell_type": "code",
   "execution_count": 38,
   "id": "50416167",
   "metadata": {},
   "outputs": [
    {
     "name": "stdout",
     "output_type": "stream",
     "text": [
      "<class 'pandas.core.frame.DataFrame'>\n",
      "Int64Index: 48729 entries, 0 to 66586\n",
      "Data columns (total 44 columns):\n",
      " #   Column              Non-Null Count  Dtype  \n",
      "---  ------              --------------  -----  \n",
      " 0   race                48729 non-null  object \n",
      " 1   gender              48729 non-null  object \n",
      " 2   age                 48729 non-null  object \n",
      " 3   time_in_hospital    48729 non-null  float64\n",
      " 4   num_lab_procedures  48729 non-null  float64\n",
      " 5   num_procedures      48729 non-null  float64\n",
      " 6   num_medications     48729 non-null  float64\n",
      " 7   number_outpatient   48729 non-null  int64  \n",
      " 8   number_emergency    48729 non-null  int64  \n",
      " 9   number_inpatient    48729 non-null  int64  \n",
      " 10  diag_1              48729 non-null  object \n",
      " 11  diag_2              48729 non-null  object \n",
      " 12  diag_3              48729 non-null  object \n",
      " 13  diag_4              48729 non-null  object \n",
      " 14  diag_5              48729 non-null  float64\n",
      " 15  number_diagnoses    48729 non-null  float64\n",
      " 16  X1                  48729 non-null  object \n",
      " 17  X2                  48729 non-null  object \n",
      " 18  X3                  48729 non-null  object \n",
      " 19  X4                  48729 non-null  object \n",
      " 20  X5                  48729 non-null  object \n",
      " 21  X6                  48729 non-null  object \n",
      " 22  X7                  48729 non-null  object \n",
      " 23  X8                  48729 non-null  object \n",
      " 24  X9                  48729 non-null  object \n",
      " 25  X10                 48729 non-null  object \n",
      " 26  X11                 48729 non-null  object \n",
      " 27  X12                 48729 non-null  object \n",
      " 28  X13                 48729 non-null  object \n",
      " 29  X14                 48729 non-null  object \n",
      " 30  X15                 48729 non-null  object \n",
      " 31  X16                 48729 non-null  object \n",
      " 32  X17                 48729 non-null  object \n",
      " 33  X18                 48729 non-null  object \n",
      " 34  X19                 48729 non-null  object \n",
      " 35  X20                 48729 non-null  object \n",
      " 36  X21                 48729 non-null  object \n",
      " 37  X22                 48729 non-null  object \n",
      " 38  X23                 48729 non-null  object \n",
      " 39  X24                 48729 non-null  object \n",
      " 40  X25                 48729 non-null  object \n",
      " 41  change              48729 non-null  object \n",
      " 42  diabetesMed         48729 non-null  object \n",
      " 43  readmitted          48729 non-null  int64  \n",
      "dtypes: float64(6), int64(4), object(34)\n",
      "memory usage: 16.7+ MB\n"
     ]
    }
   ],
   "source": [
    "df1.info()"
   ]
  },
  {
   "cell_type": "markdown",
   "id": "046844cc",
   "metadata": {},
   "source": [
    "### Converting categorical to numerical"
   ]
  },
  {
   "cell_type": "code",
   "execution_count": 39,
   "id": "1a616cfe",
   "metadata": {},
   "outputs": [],
   "source": [
    "cat_col=['race','gender','age','diag_1','diag_2','diag_3','diag_4','X1', 'X2',\n",
    "       'X3', 'X4', 'X5', 'X6', 'X7', 'X8', 'X9', 'X10', 'X11', 'X12', 'X13',\n",
    "       'X14', 'X15', 'X16', 'X17', 'X18', 'X19', 'X20', 'X21', 'X22', 'X23',\n",
    "       'X24', 'X25', 'change', 'diabetesMed']"
   ]
  },
  {
   "cell_type": "code",
   "execution_count": 40,
   "id": "4553b233",
   "metadata": {},
   "outputs": [],
   "source": [
    "from sklearn.preprocessing import LabelEncoder   \n",
    "le = LabelEncoder()\n",
    "\n",
    "for col in cat_col:\n",
    "    df1[col]= le.fit_transform(df1[col])"
   ]
  },
  {
   "cell_type": "code",
   "execution_count": 41,
   "id": "75ecdd1a",
   "metadata": {
    "scrolled": true
   },
   "outputs": [
    {
     "data": {
      "text/html": [
       "<div>\n",
       "<style scoped>\n",
       "    .dataframe tbody tr th:only-of-type {\n",
       "        vertical-align: middle;\n",
       "    }\n",
       "\n",
       "    .dataframe tbody tr th {\n",
       "        vertical-align: top;\n",
       "    }\n",
       "\n",
       "    .dataframe thead th {\n",
       "        text-align: right;\n",
       "    }\n",
       "</style>\n",
       "<table border=\"1\" class=\"dataframe\">\n",
       "  <thead>\n",
       "    <tr style=\"text-align: right;\">\n",
       "      <th></th>\n",
       "      <th>race</th>\n",
       "      <th>gender</th>\n",
       "      <th>age</th>\n",
       "      <th>time_in_hospital</th>\n",
       "      <th>num_lab_procedures</th>\n",
       "      <th>num_procedures</th>\n",
       "      <th>num_medications</th>\n",
       "      <th>number_outpatient</th>\n",
       "      <th>number_emergency</th>\n",
       "      <th>number_inpatient</th>\n",
       "      <th>...</th>\n",
       "      <th>X19</th>\n",
       "      <th>X20</th>\n",
       "      <th>X21</th>\n",
       "      <th>X22</th>\n",
       "      <th>X23</th>\n",
       "      <th>X24</th>\n",
       "      <th>X25</th>\n",
       "      <th>change</th>\n",
       "      <th>diabetesMed</th>\n",
       "      <th>readmitted</th>\n",
       "    </tr>\n",
       "  </thead>\n",
       "  <tbody>\n",
       "    <tr>\n",
       "      <th>0</th>\n",
       "      <td>3</td>\n",
       "      <td>1</td>\n",
       "      <td>8</td>\n",
       "      <td>4.0</td>\n",
       "      <td>39.0</td>\n",
       "      <td>1.0</td>\n",
       "      <td>9.0</td>\n",
       "      <td>1</td>\n",
       "      <td>1</td>\n",
       "      <td>4</td>\n",
       "      <td>...</td>\n",
       "      <td>0</td>\n",
       "      <td>1</td>\n",
       "      <td>1</td>\n",
       "      <td>0</td>\n",
       "      <td>0</td>\n",
       "      <td>0</td>\n",
       "      <td>0</td>\n",
       "      <td>1</td>\n",
       "      <td>1</td>\n",
       "      <td>1</td>\n",
       "    </tr>\n",
       "    <tr>\n",
       "      <th>1</th>\n",
       "      <td>2</td>\n",
       "      <td>1</td>\n",
       "      <td>6</td>\n",
       "      <td>3.0</td>\n",
       "      <td>34.0</td>\n",
       "      <td>1.0</td>\n",
       "      <td>12.0</td>\n",
       "      <td>0</td>\n",
       "      <td>0</td>\n",
       "      <td>0</td>\n",
       "      <td>...</td>\n",
       "      <td>0</td>\n",
       "      <td>1</td>\n",
       "      <td>1</td>\n",
       "      <td>0</td>\n",
       "      <td>0</td>\n",
       "      <td>0</td>\n",
       "      <td>0</td>\n",
       "      <td>1</td>\n",
       "      <td>0</td>\n",
       "      <td>0</td>\n",
       "    </tr>\n",
       "    <tr>\n",
       "      <th>2</th>\n",
       "      <td>2</td>\n",
       "      <td>0</td>\n",
       "      <td>5</td>\n",
       "      <td>6.0</td>\n",
       "      <td>50.0</td>\n",
       "      <td>2.0</td>\n",
       "      <td>24.0</td>\n",
       "      <td>0</td>\n",
       "      <td>0</td>\n",
       "      <td>5</td>\n",
       "      <td>...</td>\n",
       "      <td>0</td>\n",
       "      <td>0</td>\n",
       "      <td>1</td>\n",
       "      <td>0</td>\n",
       "      <td>0</td>\n",
       "      <td>0</td>\n",
       "      <td>0</td>\n",
       "      <td>0</td>\n",
       "      <td>1</td>\n",
       "      <td>1</td>\n",
       "    </tr>\n",
       "    <tr>\n",
       "      <th>3</th>\n",
       "      <td>0</td>\n",
       "      <td>0</td>\n",
       "      <td>7</td>\n",
       "      <td>5.0</td>\n",
       "      <td>63.0</td>\n",
       "      <td>0.0</td>\n",
       "      <td>14.0</td>\n",
       "      <td>0</td>\n",
       "      <td>0</td>\n",
       "      <td>0</td>\n",
       "      <td>...</td>\n",
       "      <td>0</td>\n",
       "      <td>0</td>\n",
       "      <td>1</td>\n",
       "      <td>0</td>\n",
       "      <td>0</td>\n",
       "      <td>0</td>\n",
       "      <td>0</td>\n",
       "      <td>0</td>\n",
       "      <td>1</td>\n",
       "      <td>1</td>\n",
       "    </tr>\n",
       "    <tr>\n",
       "      <th>4</th>\n",
       "      <td>2</td>\n",
       "      <td>1</td>\n",
       "      <td>7</td>\n",
       "      <td>9.0</td>\n",
       "      <td>17.0</td>\n",
       "      <td>1.0</td>\n",
       "      <td>11.0</td>\n",
       "      <td>0</td>\n",
       "      <td>0</td>\n",
       "      <td>0</td>\n",
       "      <td>...</td>\n",
       "      <td>0</td>\n",
       "      <td>1</td>\n",
       "      <td>1</td>\n",
       "      <td>0</td>\n",
       "      <td>0</td>\n",
       "      <td>0</td>\n",
       "      <td>0</td>\n",
       "      <td>1</td>\n",
       "      <td>0</td>\n",
       "      <td>1</td>\n",
       "    </tr>\n",
       "  </tbody>\n",
       "</table>\n",
       "<p>5 rows × 44 columns</p>\n",
       "</div>"
      ],
      "text/plain": [
       "   race  gender  age  time_in_hospital  num_lab_procedures  num_procedures  \\\n",
       "0     3       1    8               4.0                39.0             1.0   \n",
       "1     2       1    6               3.0                34.0             1.0   \n",
       "2     2       0    5               6.0                50.0             2.0   \n",
       "3     0       0    7               5.0                63.0             0.0   \n",
       "4     2       1    7               9.0                17.0             1.0   \n",
       "\n",
       "   num_medications  number_outpatient  number_emergency  number_inpatient  \\\n",
       "0              9.0                  1                 1                 4   \n",
       "1             12.0                  0                 0                 0   \n",
       "2             24.0                  0                 0                 5   \n",
       "3             14.0                  0                 0                 0   \n",
       "4             11.0                  0                 0                 0   \n",
       "\n",
       "   ...  X19  X20  X21  X22  X23  X24  X25  change  diabetesMed  readmitted  \n",
       "0  ...    0    1    1    0    0    0    0       1            1           1  \n",
       "1  ...    0    1    1    0    0    0    0       1            0           0  \n",
       "2  ...    0    0    1    0    0    0    0       0            1           1  \n",
       "3  ...    0    0    1    0    0    0    0       0            1           1  \n",
       "4  ...    0    1    1    0    0    0    0       1            0           1  \n",
       "\n",
       "[5 rows x 44 columns]"
      ]
     },
     "execution_count": 41,
     "metadata": {},
     "output_type": "execute_result"
    }
   ],
   "source": [
    "df1.head()"
   ]
  },
  {
   "cell_type": "code",
   "execution_count": 1156,
   "id": "b48057f1",
   "metadata": {},
   "outputs": [],
   "source": [
    "#df1.to_csv('cleaned_data_full.csv')"
   ]
  },
  {
   "cell_type": "markdown",
   "id": "7ebb2c79",
   "metadata": {},
   "source": [
    "### scaling the data"
   ]
  },
  {
   "cell_type": "code",
   "execution_count": 47,
   "id": "547d502e",
   "metadata": {},
   "outputs": [],
   "source": [
    "X=df1.drop(['readmitted'],axis=1)"
   ]
  },
  {
   "cell_type": "code",
   "execution_count": 48,
   "id": "9c31584d",
   "metadata": {},
   "outputs": [
    {
     "data": {
      "text/plain": [
       "(48729, 43)"
      ]
     },
     "execution_count": 48,
     "metadata": {},
     "output_type": "execute_result"
    }
   ],
   "source": [
    "X.shape"
   ]
  },
  {
   "cell_type": "code",
   "execution_count": 49,
   "id": "eb5ef5ac",
   "metadata": {},
   "outputs": [],
   "source": [
    "y=df1['readmitted']"
   ]
  },
  {
   "cell_type": "code",
   "execution_count": 50,
   "id": "40b16f59",
   "metadata": {},
   "outputs": [
    {
     "data": {
      "text/plain": [
       "(48729,)"
      ]
     },
     "execution_count": 50,
     "metadata": {},
     "output_type": "execute_result"
    }
   ],
   "source": [
    "y.shape"
   ]
  },
  {
   "cell_type": "code",
   "execution_count": 51,
   "id": "86ca78c9",
   "metadata": {},
   "outputs": [],
   "source": [
    "from sklearn.preprocessing import StandardScaler\n",
    "\n",
    "scaler = StandardScaler()\n",
    "scaled_data = scaler.fit_transform(X)\n",
    "X = scaled_data"
   ]
  },
  {
   "cell_type": "code",
   "execution_count": 52,
   "id": "61cca4e4",
   "metadata": {},
   "outputs": [],
   "source": [
    "from sklearn.model_selection import train_test_split\n",
    "\n",
    "X_train, X_test, y_train, y_test = train_test_split(X, y, test_size=0.2, random_state=7,stratify=y)"
   ]
  },
  {
   "cell_type": "markdown",
   "id": "5b4cbc09",
   "metadata": {},
   "source": [
    "### Creating ml model"
   ]
  },
  {
   "cell_type": "code",
   "execution_count": 53,
   "id": "f0f798f5",
   "metadata": {},
   "outputs": [],
   "source": [
    "#fitting logistic regression\n",
    "\n",
    "from sklearn.linear_model import LogisticRegression\n",
    "logis=LogisticRegression()"
   ]
  },
  {
   "cell_type": "code",
   "execution_count": 54,
   "id": "7e485cc5",
   "metadata": {},
   "outputs": [
    {
     "data": {
      "text/html": [
       "<style>#sk-container-id-1 {color: black;background-color: white;}#sk-container-id-1 pre{padding: 0;}#sk-container-id-1 div.sk-toggleable {background-color: white;}#sk-container-id-1 label.sk-toggleable__label {cursor: pointer;display: block;width: 100%;margin-bottom: 0;padding: 0.3em;box-sizing: border-box;text-align: center;}#sk-container-id-1 label.sk-toggleable__label-arrow:before {content: \"▸\";float: left;margin-right: 0.25em;color: #696969;}#sk-container-id-1 label.sk-toggleable__label-arrow:hover:before {color: black;}#sk-container-id-1 div.sk-estimator:hover label.sk-toggleable__label-arrow:before {color: black;}#sk-container-id-1 div.sk-toggleable__content {max-height: 0;max-width: 0;overflow: hidden;text-align: left;background-color: #f0f8ff;}#sk-container-id-1 div.sk-toggleable__content pre {margin: 0.2em;color: black;border-radius: 0.25em;background-color: #f0f8ff;}#sk-container-id-1 input.sk-toggleable__control:checked~div.sk-toggleable__content {max-height: 200px;max-width: 100%;overflow: auto;}#sk-container-id-1 input.sk-toggleable__control:checked~label.sk-toggleable__label-arrow:before {content: \"▾\";}#sk-container-id-1 div.sk-estimator input.sk-toggleable__control:checked~label.sk-toggleable__label {background-color: #d4ebff;}#sk-container-id-1 div.sk-label input.sk-toggleable__control:checked~label.sk-toggleable__label {background-color: #d4ebff;}#sk-container-id-1 input.sk-hidden--visually {border: 0;clip: rect(1px 1px 1px 1px);clip: rect(1px, 1px, 1px, 1px);height: 1px;margin: -1px;overflow: hidden;padding: 0;position: absolute;width: 1px;}#sk-container-id-1 div.sk-estimator {font-family: monospace;background-color: #f0f8ff;border: 1px dotted black;border-radius: 0.25em;box-sizing: border-box;margin-bottom: 0.5em;}#sk-container-id-1 div.sk-estimator:hover {background-color: #d4ebff;}#sk-container-id-1 div.sk-parallel-item::after {content: \"\";width: 100%;border-bottom: 1px solid gray;flex-grow: 1;}#sk-container-id-1 div.sk-label:hover label.sk-toggleable__label {background-color: #d4ebff;}#sk-container-id-1 div.sk-serial::before {content: \"\";position: absolute;border-left: 1px solid gray;box-sizing: border-box;top: 0;bottom: 0;left: 50%;z-index: 0;}#sk-container-id-1 div.sk-serial {display: flex;flex-direction: column;align-items: center;background-color: white;padding-right: 0.2em;padding-left: 0.2em;position: relative;}#sk-container-id-1 div.sk-item {position: relative;z-index: 1;}#sk-container-id-1 div.sk-parallel {display: flex;align-items: stretch;justify-content: center;background-color: white;position: relative;}#sk-container-id-1 div.sk-item::before, #sk-container-id-1 div.sk-parallel-item::before {content: \"\";position: absolute;border-left: 1px solid gray;box-sizing: border-box;top: 0;bottom: 0;left: 50%;z-index: -1;}#sk-container-id-1 div.sk-parallel-item {display: flex;flex-direction: column;z-index: 1;position: relative;background-color: white;}#sk-container-id-1 div.sk-parallel-item:first-child::after {align-self: flex-end;width: 50%;}#sk-container-id-1 div.sk-parallel-item:last-child::after {align-self: flex-start;width: 50%;}#sk-container-id-1 div.sk-parallel-item:only-child::after {width: 0;}#sk-container-id-1 div.sk-dashed-wrapped {border: 1px dashed gray;margin: 0 0.4em 0.5em 0.4em;box-sizing: border-box;padding-bottom: 0.4em;background-color: white;}#sk-container-id-1 div.sk-label label {font-family: monospace;font-weight: bold;display: inline-block;line-height: 1.2em;}#sk-container-id-1 div.sk-label-container {text-align: center;}#sk-container-id-1 div.sk-container {/* jupyter's `normalize.less` sets `[hidden] { display: none; }` but bootstrap.min.css set `[hidden] { display: none !important; }` so we also need the `!important` here to be able to override the default hidden behavior on the sphinx rendered scikit-learn.org. See: https://github.com/scikit-learn/scikit-learn/issues/21755 */display: inline-block !important;position: relative;}#sk-container-id-1 div.sk-text-repr-fallback {display: none;}</style><div id=\"sk-container-id-1\" class=\"sk-top-container\"><div class=\"sk-text-repr-fallback\"><pre>LogisticRegression()</pre><b>In a Jupyter environment, please rerun this cell to show the HTML representation or trust the notebook. <br />On GitHub, the HTML representation is unable to render, please try loading this page with nbviewer.org.</b></div><div class=\"sk-container\" hidden><div class=\"sk-item\"><div class=\"sk-estimator sk-toggleable\"><input class=\"sk-toggleable__control sk-hidden--visually\" id=\"sk-estimator-id-1\" type=\"checkbox\" checked><label for=\"sk-estimator-id-1\" class=\"sk-toggleable__label sk-toggleable__label-arrow\">LogisticRegression</label><div class=\"sk-toggleable__content\"><pre>LogisticRegression()</pre></div></div></div></div></div>"
      ],
      "text/plain": [
       "LogisticRegression()"
      ]
     },
     "execution_count": 54,
     "metadata": {},
     "output_type": "execute_result"
    }
   ],
   "source": [
    "logis.fit(X_train, y_train)"
   ]
  },
  {
   "cell_type": "code",
   "execution_count": 56,
   "id": "4f29f507",
   "metadata": {},
   "outputs": [
    {
     "name": "stdout",
     "output_type": "stream",
     "text": [
      "              precision    recall  f1-score   support\n",
      "\n",
      "           0       0.61      0.81      0.69      5235\n",
      "           1       0.64      0.40      0.49      4511\n",
      "\n",
      "    accuracy                           0.62      9746\n",
      "   macro avg       0.62      0.60      0.59      9746\n",
      "weighted avg       0.62      0.62      0.60      9746\n",
      "\n"
     ]
    }
   ],
   "source": [
    "## Doing prediction on test data and checking F1 score of logistic regression.\n",
    "\n",
    "from sklearn.metrics import classification_report\n",
    "\n",
    "log_pred = logis.predict(X_test)\n",
    "\n",
    "print(classification_report(y_test, log_pred))                     "
   ]
  },
  {
   "cell_type": "code",
   "execution_count": 58,
   "id": "fab90bb5",
   "metadata": {},
   "outputs": [
    {
     "data": {
      "text/html": [
       "<style>#sk-container-id-2 {color: black;background-color: white;}#sk-container-id-2 pre{padding: 0;}#sk-container-id-2 div.sk-toggleable {background-color: white;}#sk-container-id-2 label.sk-toggleable__label {cursor: pointer;display: block;width: 100%;margin-bottom: 0;padding: 0.3em;box-sizing: border-box;text-align: center;}#sk-container-id-2 label.sk-toggleable__label-arrow:before {content: \"▸\";float: left;margin-right: 0.25em;color: #696969;}#sk-container-id-2 label.sk-toggleable__label-arrow:hover:before {color: black;}#sk-container-id-2 div.sk-estimator:hover label.sk-toggleable__label-arrow:before {color: black;}#sk-container-id-2 div.sk-toggleable__content {max-height: 0;max-width: 0;overflow: hidden;text-align: left;background-color: #f0f8ff;}#sk-container-id-2 div.sk-toggleable__content pre {margin: 0.2em;color: black;border-radius: 0.25em;background-color: #f0f8ff;}#sk-container-id-2 input.sk-toggleable__control:checked~div.sk-toggleable__content {max-height: 200px;max-width: 100%;overflow: auto;}#sk-container-id-2 input.sk-toggleable__control:checked~label.sk-toggleable__label-arrow:before {content: \"▾\";}#sk-container-id-2 div.sk-estimator input.sk-toggleable__control:checked~label.sk-toggleable__label {background-color: #d4ebff;}#sk-container-id-2 div.sk-label input.sk-toggleable__control:checked~label.sk-toggleable__label {background-color: #d4ebff;}#sk-container-id-2 input.sk-hidden--visually {border: 0;clip: rect(1px 1px 1px 1px);clip: rect(1px, 1px, 1px, 1px);height: 1px;margin: -1px;overflow: hidden;padding: 0;position: absolute;width: 1px;}#sk-container-id-2 div.sk-estimator {font-family: monospace;background-color: #f0f8ff;border: 1px dotted black;border-radius: 0.25em;box-sizing: border-box;margin-bottom: 0.5em;}#sk-container-id-2 div.sk-estimator:hover {background-color: #d4ebff;}#sk-container-id-2 div.sk-parallel-item::after {content: \"\";width: 100%;border-bottom: 1px solid gray;flex-grow: 1;}#sk-container-id-2 div.sk-label:hover label.sk-toggleable__label {background-color: #d4ebff;}#sk-container-id-2 div.sk-serial::before {content: \"\";position: absolute;border-left: 1px solid gray;box-sizing: border-box;top: 0;bottom: 0;left: 50%;z-index: 0;}#sk-container-id-2 div.sk-serial {display: flex;flex-direction: column;align-items: center;background-color: white;padding-right: 0.2em;padding-left: 0.2em;position: relative;}#sk-container-id-2 div.sk-item {position: relative;z-index: 1;}#sk-container-id-2 div.sk-parallel {display: flex;align-items: stretch;justify-content: center;background-color: white;position: relative;}#sk-container-id-2 div.sk-item::before, #sk-container-id-2 div.sk-parallel-item::before {content: \"\";position: absolute;border-left: 1px solid gray;box-sizing: border-box;top: 0;bottom: 0;left: 50%;z-index: -1;}#sk-container-id-2 div.sk-parallel-item {display: flex;flex-direction: column;z-index: 1;position: relative;background-color: white;}#sk-container-id-2 div.sk-parallel-item:first-child::after {align-self: flex-end;width: 50%;}#sk-container-id-2 div.sk-parallel-item:last-child::after {align-self: flex-start;width: 50%;}#sk-container-id-2 div.sk-parallel-item:only-child::after {width: 0;}#sk-container-id-2 div.sk-dashed-wrapped {border: 1px dashed gray;margin: 0 0.4em 0.5em 0.4em;box-sizing: border-box;padding-bottom: 0.4em;background-color: white;}#sk-container-id-2 div.sk-label label {font-family: monospace;font-weight: bold;display: inline-block;line-height: 1.2em;}#sk-container-id-2 div.sk-label-container {text-align: center;}#sk-container-id-2 div.sk-container {/* jupyter's `normalize.less` sets `[hidden] { display: none; }` but bootstrap.min.css set `[hidden] { display: none !important; }` so we also need the `!important` here to be able to override the default hidden behavior on the sphinx rendered scikit-learn.org. See: https://github.com/scikit-learn/scikit-learn/issues/21755 */display: inline-block !important;position: relative;}#sk-container-id-2 div.sk-text-repr-fallback {display: none;}</style><div id=\"sk-container-id-2\" class=\"sk-top-container\"><div class=\"sk-text-repr-fallback\"><pre>RandomForestClassifier()</pre><b>In a Jupyter environment, please rerun this cell to show the HTML representation or trust the notebook. <br />On GitHub, the HTML representation is unable to render, please try loading this page with nbviewer.org.</b></div><div class=\"sk-container\" hidden><div class=\"sk-item\"><div class=\"sk-estimator sk-toggleable\"><input class=\"sk-toggleable__control sk-hidden--visually\" id=\"sk-estimator-id-2\" type=\"checkbox\" checked><label for=\"sk-estimator-id-2\" class=\"sk-toggleable__label sk-toggleable__label-arrow\">RandomForestClassifier</label><div class=\"sk-toggleable__content\"><pre>RandomForestClassifier()</pre></div></div></div></div></div>"
      ],
      "text/plain": [
       "RandomForestClassifier()"
      ]
     },
     "execution_count": 58,
     "metadata": {},
     "output_type": "execute_result"
    }
   ],
   "source": [
    "## Using Random Forest Alogorithm\n",
    "from sklearn.tree import RandomForestClassifier\n",
    "\n",
    "rf_model = RandomForestClassifier()\n",
    "rf_model.fit(X_train, y_train)"
   ]
  },
  {
   "cell_type": "code",
   "execution_count": 59,
   "id": "8f28d6ec",
   "metadata": {},
   "outputs": [
    {
     "name": "stdout",
     "output_type": "stream",
     "text": [
      "              precision    recall  f1-score   support\n",
      "\n",
      "           0       0.63      0.74      0.68      5235\n",
      "           1       0.62      0.50      0.55      4511\n",
      "\n",
      "    accuracy                           0.63      9746\n",
      "   macro avg       0.63      0.62      0.62      9746\n",
      "weighted avg       0.63      0.63      0.62      9746\n",
      "\n"
     ]
    }
   ],
   "source": [
    "rf_pred = rf_model.predict(X_test)\n",
    "\n",
    "print(classification_report(y_test, rf_pred)) "
   ]
  },
  {
   "cell_type": "code",
   "execution_count": 60,
   "id": "366c5997",
   "metadata": {},
   "outputs": [
    {
     "data": {
      "text/html": [
       "<style>#sk-container-id-3 {color: black;background-color: white;}#sk-container-id-3 pre{padding: 0;}#sk-container-id-3 div.sk-toggleable {background-color: white;}#sk-container-id-3 label.sk-toggleable__label {cursor: pointer;display: block;width: 100%;margin-bottom: 0;padding: 0.3em;box-sizing: border-box;text-align: center;}#sk-container-id-3 label.sk-toggleable__label-arrow:before {content: \"▸\";float: left;margin-right: 0.25em;color: #696969;}#sk-container-id-3 label.sk-toggleable__label-arrow:hover:before {color: black;}#sk-container-id-3 div.sk-estimator:hover label.sk-toggleable__label-arrow:before {color: black;}#sk-container-id-3 div.sk-toggleable__content {max-height: 0;max-width: 0;overflow: hidden;text-align: left;background-color: #f0f8ff;}#sk-container-id-3 div.sk-toggleable__content pre {margin: 0.2em;color: black;border-radius: 0.25em;background-color: #f0f8ff;}#sk-container-id-3 input.sk-toggleable__control:checked~div.sk-toggleable__content {max-height: 200px;max-width: 100%;overflow: auto;}#sk-container-id-3 input.sk-toggleable__control:checked~label.sk-toggleable__label-arrow:before {content: \"▾\";}#sk-container-id-3 div.sk-estimator input.sk-toggleable__control:checked~label.sk-toggleable__label {background-color: #d4ebff;}#sk-container-id-3 div.sk-label input.sk-toggleable__control:checked~label.sk-toggleable__label {background-color: #d4ebff;}#sk-container-id-3 input.sk-hidden--visually {border: 0;clip: rect(1px 1px 1px 1px);clip: rect(1px, 1px, 1px, 1px);height: 1px;margin: -1px;overflow: hidden;padding: 0;position: absolute;width: 1px;}#sk-container-id-3 div.sk-estimator {font-family: monospace;background-color: #f0f8ff;border: 1px dotted black;border-radius: 0.25em;box-sizing: border-box;margin-bottom: 0.5em;}#sk-container-id-3 div.sk-estimator:hover {background-color: #d4ebff;}#sk-container-id-3 div.sk-parallel-item::after {content: \"\";width: 100%;border-bottom: 1px solid gray;flex-grow: 1;}#sk-container-id-3 div.sk-label:hover label.sk-toggleable__label {background-color: #d4ebff;}#sk-container-id-3 div.sk-serial::before {content: \"\";position: absolute;border-left: 1px solid gray;box-sizing: border-box;top: 0;bottom: 0;left: 50%;z-index: 0;}#sk-container-id-3 div.sk-serial {display: flex;flex-direction: column;align-items: center;background-color: white;padding-right: 0.2em;padding-left: 0.2em;position: relative;}#sk-container-id-3 div.sk-item {position: relative;z-index: 1;}#sk-container-id-3 div.sk-parallel {display: flex;align-items: stretch;justify-content: center;background-color: white;position: relative;}#sk-container-id-3 div.sk-item::before, #sk-container-id-3 div.sk-parallel-item::before {content: \"\";position: absolute;border-left: 1px solid gray;box-sizing: border-box;top: 0;bottom: 0;left: 50%;z-index: -1;}#sk-container-id-3 div.sk-parallel-item {display: flex;flex-direction: column;z-index: 1;position: relative;background-color: white;}#sk-container-id-3 div.sk-parallel-item:first-child::after {align-self: flex-end;width: 50%;}#sk-container-id-3 div.sk-parallel-item:last-child::after {align-self: flex-start;width: 50%;}#sk-container-id-3 div.sk-parallel-item:only-child::after {width: 0;}#sk-container-id-3 div.sk-dashed-wrapped {border: 1px dashed gray;margin: 0 0.4em 0.5em 0.4em;box-sizing: border-box;padding-bottom: 0.4em;background-color: white;}#sk-container-id-3 div.sk-label label {font-family: monospace;font-weight: bold;display: inline-block;line-height: 1.2em;}#sk-container-id-3 div.sk-label-container {text-align: center;}#sk-container-id-3 div.sk-container {/* jupyter's `normalize.less` sets `[hidden] { display: none; }` but bootstrap.min.css set `[hidden] { display: none !important; }` so we also need the `!important` here to be able to override the default hidden behavior on the sphinx rendered scikit-learn.org. See: https://github.com/scikit-learn/scikit-learn/issues/21755 */display: inline-block !important;position: relative;}#sk-container-id-3 div.sk-text-repr-fallback {display: none;}</style><div id=\"sk-container-id-3\" class=\"sk-top-container\"><div class=\"sk-text-repr-fallback\"><pre>XGBClassifier(base_score=0.5, booster=&#x27;gbtree&#x27;, callbacks=None,\n",
       "              colsample_bylevel=1, colsample_bynode=1, colsample_bytree=1,\n",
       "              early_stopping_rounds=None, enable_categorical=False,\n",
       "              eval_metric=None, gamma=0, gpu_id=-1, grow_policy=&#x27;depthwise&#x27;,\n",
       "              importance_type=None, interaction_constraints=&#x27;&#x27;,\n",
       "              learning_rate=0.300000012, max_bin=256, max_cat_to_onehot=4,\n",
       "              max_delta_step=0, max_depth=6, max_leaves=0, min_child_weight=1,\n",
       "              missing=nan, monotone_constraints=&#x27;()&#x27;, n_estimators=100,\n",
       "              n_jobs=0, num_parallel_tree=1, predictor=&#x27;auto&#x27;, random_state=0,\n",
       "              reg_alpha=0, reg_lambda=1, ...)</pre><b>In a Jupyter environment, please rerun this cell to show the HTML representation or trust the notebook. <br />On GitHub, the HTML representation is unable to render, please try loading this page with nbviewer.org.</b></div><div class=\"sk-container\" hidden><div class=\"sk-item\"><div class=\"sk-estimator sk-toggleable\"><input class=\"sk-toggleable__control sk-hidden--visually\" id=\"sk-estimator-id-3\" type=\"checkbox\" checked><label for=\"sk-estimator-id-3\" class=\"sk-toggleable__label sk-toggleable__label-arrow\">XGBClassifier</label><div class=\"sk-toggleable__content\"><pre>XGBClassifier(base_score=0.5, booster=&#x27;gbtree&#x27;, callbacks=None,\n",
       "              colsample_bylevel=1, colsample_bynode=1, colsample_bytree=1,\n",
       "              early_stopping_rounds=None, enable_categorical=False,\n",
       "              eval_metric=None, gamma=0, gpu_id=-1, grow_policy=&#x27;depthwise&#x27;,\n",
       "              importance_type=None, interaction_constraints=&#x27;&#x27;,\n",
       "              learning_rate=0.300000012, max_bin=256, max_cat_to_onehot=4,\n",
       "              max_delta_step=0, max_depth=6, max_leaves=0, min_child_weight=1,\n",
       "              missing=nan, monotone_constraints=&#x27;()&#x27;, n_estimators=100,\n",
       "              n_jobs=0, num_parallel_tree=1, predictor=&#x27;auto&#x27;, random_state=0,\n",
       "              reg_alpha=0, reg_lambda=1, ...)</pre></div></div></div></div></div>"
      ],
      "text/plain": [
       "XGBClassifier(base_score=0.5, booster='gbtree', callbacks=None,\n",
       "              colsample_bylevel=1, colsample_bynode=1, colsample_bytree=1,\n",
       "              early_stopping_rounds=None, enable_categorical=False,\n",
       "              eval_metric=None, gamma=0, gpu_id=-1, grow_policy='depthwise',\n",
       "              importance_type=None, interaction_constraints='',\n",
       "              learning_rate=0.300000012, max_bin=256, max_cat_to_onehot=4,\n",
       "              max_delta_step=0, max_depth=6, max_leaves=0, min_child_weight=1,\n",
       "              missing=nan, monotone_constraints='()', n_estimators=100,\n",
       "              n_jobs=0, num_parallel_tree=1, predictor='auto', random_state=0,\n",
       "              reg_alpha=0, reg_lambda=1, ...)"
      ]
     },
     "execution_count": 60,
     "metadata": {},
     "output_type": "execute_result"
    }
   ],
   "source": [
    "from xgboost import XGBClassifier\n",
    "\n",
    "## Using XGBoost algorithm.\n",
    "\n",
    "xg_model = XGBClassifier()\n",
    "xg_model.fit(X_train, y_train)\n"
   ]
  },
  {
   "cell_type": "code",
   "execution_count": 61,
   "id": "8a5e05f8",
   "metadata": {},
   "outputs": [
    {
     "name": "stdout",
     "output_type": "stream",
     "text": [
      "              precision    recall  f1-score   support\n",
      "\n",
      "           0       0.64      0.72      0.67      5235\n",
      "           1       0.61      0.53      0.57      4511\n",
      "\n",
      "    accuracy                           0.63      9746\n",
      "   macro avg       0.63      0.62      0.62      9746\n",
      "weighted avg       0.63      0.63      0.62      9746\n",
      "\n"
     ]
    }
   ],
   "source": [
    "## Doing prediction on test data and checking F1 score of Randon Forest algorithm.\n",
    "\n",
    "xg_pred = xg_model.predict(X_test)\n",
    "\n",
    "print(classification_report(y_test, xg_pred))"
   ]
  },
  {
   "cell_type": "markdown",
   "id": "7c144c2f",
   "metadata": {},
   "source": [
    "## Testing Data:\n",
    "Loading the testing data after preprocessing and using the model to predict the target values."
   ]
  },
  {
   "cell_type": "code",
   "execution_count": 1254,
   "id": "1e2bb535",
   "metadata": {},
   "outputs": [],
   "source": [
    "Test_file=pd.read_csv('test2.csv')   ## loading test file"
   ]
  },
  {
   "cell_type": "code",
   "execution_count": 1255,
   "id": "dc2c4ee3",
   "metadata": {},
   "outputs": [],
   "source": [
    "#in x_test variable we take our training dataset\n",
    "\n",
    "x_test=Test_file.drop(['Unnamed: 0','encounter_id'],axis=1)"
   ]
  },
  {
   "cell_type": "code",
   "execution_count": 1256,
   "id": "7a4c19ef",
   "metadata": {},
   "outputs": [],
   "source": [
    "## using the best model for prediction ( XG boost)\n",
    "\n",
    "y_pred= xg_model.predict(x_test)"
   ]
  },
  {
   "cell_type": "code",
   "execution_count": 1257,
   "id": "31a8331e",
   "metadata": {
    "scrolled": true
   },
   "outputs": [
    {
     "data": {
      "text/plain": [
       "array([1, 0, 1, ..., 1, 0, 0], dtype=int64)"
      ]
     },
     "execution_count": 1257,
     "metadata": {},
     "output_type": "execute_result"
    }
   ],
   "source": [
    "y_pred"
   ]
  },
  {
   "cell_type": "code",
   "execution_count": 1258,
   "id": "1f381029",
   "metadata": {},
   "outputs": [],
   "source": [
    "enconter=Test_file['encounter_id']"
   ]
  },
  {
   "cell_type": "markdown",
   "id": "6e380768",
   "metadata": {},
   "source": [
    "### Creating csv file for predicted"
   ]
  },
  {
   "cell_type": "code",
   "execution_count": 1259,
   "id": "09d85aab",
   "metadata": {},
   "outputs": [],
   "source": [
    "df4=pd.DataFrame({'encounter_id':enconter,'prediction':y_pred})"
   ]
  },
  {
   "cell_type": "code",
   "execution_count": 1251,
   "id": "3d35f823",
   "metadata": {},
   "outputs": [],
   "source": [
    "df4.to_csv('4264_Ayush.csv')"
   ]
  },
  {
   "cell_type": "code",
   "execution_count": null,
   "id": "3ab2f97a",
   "metadata": {},
   "outputs": [],
   "source": []
  }
 ],
 "metadata": {
  "kernelspec": {
   "display_name": "Python 3",
   "language": "python",
   "name": "python3"
  },
  "language_info": {
   "codemirror_mode": {
    "name": "ipython",
    "version": 3
   },
   "file_extension": ".py",
   "mimetype": "text/x-python",
   "name": "python",
   "nbconvert_exporter": "python",
   "pygments_lexer": "ipython3",
   "version": "3.8.8"
  }
 },
 "nbformat": 4,
 "nbformat_minor": 5
}
